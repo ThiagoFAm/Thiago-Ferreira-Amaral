{
  "nbformat": 4,
  "nbformat_minor": 0,
  "metadata": {
    "colab": {
      "provenance": []
    },
    "kernelspec": {
      "name": "python3",
      "display_name": "Python 3"
    },
    "language_info": {
      "name": "python"
    }
  },
  "cells": [
    {
      "cell_type": "markdown",
      "source": [
        "##Imports\n"
      ],
      "metadata": {
        "id": "GY8tb_d-jtla"
      }
    },
    {
      "cell_type": "code",
      "execution_count": null,
      "metadata": {
        "colab": {
          "base_uri": "https://localhost:8080/"
        },
        "id": "Eru_dSPxeUt6",
        "outputId": "2800900e-adf4-4609-cd02-c9d25bfaeced"
      },
      "outputs": [
        {
          "output_type": "stream",
          "name": "stdout",
          "text": [
            "Mounted at /content/drive\n"
          ]
        }
      ],
      "source": [
        "from PIL import Image\n",
        "import pandas as np\n",
        "import numpy as np\n",
        "import cv2\n",
        "import matplotlib.pyplot as plt\n",
        "import dlib\n",
        "from google.colab.patches import cv2_imshow\n",
        "from google.colab import drive\n",
        "drive.mount('/content/drive')"
      ]
    },
    {
      "cell_type": "markdown",
      "source": [
        "##Carregamento da base de dados"
      ],
      "metadata": {
        "id": "-hOhVwBej03d"
      }
    },
    {
      "cell_type": "code",
      "source": [
        "import zipfile\n",
        "#Nosso arquivo yalefaces, está zipado, então teremos que usar o zipfile para ler esse arquivo, logo após gerar uma pasta com os arquivos contidos dentro de yalefaces\n",
        "#Diretório onde se encontra o aquivo 'yalefaces.zip' no drive, que já foi importado para o colab\n",
        "yalefaces = '/content/drive/MyDrive/M5/Visão Computacional Guia Completo-20220707T140129Z-001/Visão Computacional Guia Completo/Datasets/yalefaces.zip'\n",
        "#aqui nos definimos o arquivo a ser visto e como ele vai ser visto, no caso poderiamos por um w para escrever o arquivo, mas estamos usando o R por que ja temos informações dentro do yalefaces.\n",
        "yalefaces_zip = zipfile.ZipFile(file=yalefaces, mode = 'r')\n",
        "yalefaces_zip.extractall('./')\n",
        "yalefaces_zip.close()"
      ],
      "metadata": {
        "id": "CchCCzKSi5Gx"
      },
      "execution_count": null,
      "outputs": []
    },
    {
      "cell_type": "markdown",
      "source": [
        "##Pré-Processamento das imagens "
      ],
      "metadata": {
        "id": "JlPvo2HCj6lG"
      }
    },
    {
      "cell_type": "code",
      "source": [
        "import os\n",
        "print(os.listdir('/content/yalefaces/train'))\n",
        "#gifs dentro da pasta train"
      ],
      "metadata": {
        "colab": {
          "base_uri": "https://localhost:8080/"
        },
        "id": "fqTQpTgMhqqm",
        "outputId": "06a544c9-0cea-466c-db9b-78356db7b23b"
      },
      "execution_count": null,
      "outputs": [
        {
          "output_type": "stream",
          "name": "stdout",
          "text": [
            "['subject11.leftlight.gif', 'subject07.normal.gif', 'subject02.wink.gif', 'subject03.sleepy.gif', 'subject13.leftlight.gif', 'subject04.wink.gif', 'subject14.surprised.gif', 'subject02.glasses.gif', 'subject07.sad.gif', 'subject10.noglasses.gif', 'subject11.wink.gif', 'subject01.sad.gif', 'subject12.sleepy.gif', 'subject04.normal.gif', 'subject02.rightlight.gif', 'subject04.sleepy.gif', 'subject05.centerlight.gif', 'subject01.leftlight.gif', 'subject13.wink.gif', 'subject07.sleepy.gif', 'subject15.noglasses.gif', 'subject13.happy.gif', 'subject14.happy.gif', 'subject11.rightlight.gif', 'subject08.surprised.gif', 'subject02.normal.gif', 'subject07.noglasses.gif', 'subject02.happy.gif', 'subject09.sleepy.gif', 'subject04.happy.gif', 'subject01.noglasses.gif', 'subject13.normal.gif', 'subject03.wink.gif', 'subject06.rightlight.gif', 'subject04.centerlight.gif', 'subject06.noglasses.gif', 'subject01.glasses.gif', 'subject12.noglasses.gif', 'subject15.sleepy.gif', 'subject11.sad.gif', 'subject12.leftlight.gif', 'subject09.wink.gif', 'subject06.sad.gif', 'subject03.noglasses.gif', 'subject04.rightlight.gif', 'subject14.glasses.gif', 'subject02.noglasses.gif', 'subject06.glasses.gif', 'subject03.surprised.gif', 'subject05.rightlight.gif', 'subject08.leftlight.gif', 'subject13.surprised.gif', 'subject15.leftlight.gif', 'subject03.centerlight.gif', 'subject14.noglasses.gif', 'subject02.sad.gif', 'subject07.glasses.gif', 'subject13.centerlight.gif', 'subject04.noglasses.gif', 'subject10.happy.gif', 'subject09.centerlight.gif', 'subject13.noglasses.gif', 'subject14.centerlight.gif', 'subject05.glasses.gif', 'subject08.wink.gif', 'subject13.rightlight.gif', 'subject07.rightlight.gif', 'subject12.surprised.gif', 'subject05.sad.gif', 'subject01.wink.gif', 'subject04.glasses.gif', 'subject05.noglasses.gif', 'subject01.normal.gif', 'subject09.normal.gif', 'subject02.surprised.gif', 'subject01.rightlight.gif', 'subject07.surprised.gif', 'subject06.wink.gif', 'subject14.sleepy.gif', 'subject09.happy.gif', 'subject08.noglasses.gif', 'subject10.rightlight.gif', 'subject10.normal.gif', 'subject11.normal.gif', 'subject14.wink.gif', 'subject09.leftlight.gif', 'subject06.sleepy.gif', 'subject09.surprised.gif', 'subject07.centerlight.gif', 'subject05.happy.gif', 'subject09.glasses.gif', 'subject15.centerlight.gif', 'subject03.happy.gif', 'subject08.glasses.gif', 'subject08.centerlight.gif', 'subject05.wink.gif', 'subject02.sleepy.gif', 'subject13.glasses.gif', 'subject04.sad.gif', 'subject03.normal.gif', 'subject03.rightlight.gif', 'subject14.rightlight.gif', 'subject01.sleepy.gif', 'subject15.wink.gif', 'subject11.sleepy.gif', 'subject06.surprised.gif', 'subject15.surprised.gif', 'subject10.sleepy.gif', 'subject03.sad.gif', 'subject10.leftlight.gif', 'subject08.happy.gif', 'subject15.happy.gif', 'subject09.noglasses.gif', 'subject12.sad.gif', 'subject07.wink.gif', 'subject12.wink.gif', 'subject05.normal.gif', 'subject12.centerlight.gif', 'subject08.sleepy.gif', 'subject06.centerlight.gif', 'subject08.sad.gif', 'subject01.surprised.gif', 'subject15.normal.gif', 'subject12.glasses.gif', 'subject10.glasses.gif', 'subject05.leftlight.gif', 'subject10.wink.gif', 'subject10.surprised.gif', 'subject06.normal.gif', 'subject15.glasses.gif', 'subject12.happy.gif', 'subject11.noglasses.gif', 'subject14.leftlight.gif', 'subject11.centerlight.gif', 'subject11.surprised.gif']\n"
          ]
        }
      ]
    },
    {
      "cell_type": "code",
      "source": [
        "print(os.listdir('/content/yalefaces/test'))\n",
        "#gifs dentro da pasta test"
      ],
      "metadata": {
        "colab": {
          "base_uri": "https://localhost:8080/"
        },
        "id": "xcaPmqFZmOL7",
        "outputId": "e9735553-62d3-4563-96ec-87bdce4136ec"
      },
      "execution_count": null,
      "outputs": [
        {
          "output_type": "stream",
          "name": "stdout",
          "text": [
            "['subject05.surprised.gif', 'subject12.rightlight.gif', 'subject11.glasses.gif', 'subject02.centerlight.gif', 'subject08.normal.gif', 'subject07.leftlight.gif', 'subject08.rightlight.gif', 'subject10.centerlight.gif', 'subject02.leftlight.gif', 'subject14.normal.gif', 'subject04.leftlight.gif', 'subject06.leftlight.gif', 'subject14.sad.gif', 'subject15.sad.gif', 'subject13.sad.gif', 'subject05.sleepy.gif', 'subject10.sad.gif', 'subject01.happy.gif', 'subject03.leftlight.gif', 'subject01.gif', 'subject09.rightlight.gif', 'subject03.glasses.gif', 'subject07.happy.gif', 'subject11.happy.gif', 'subject13.sleepy.gif', 'subject09.sad.gif', 'subject12.normal.gif', 'subject15.rightlight.gif', 'subject04.surprised.gif', 'subject06.happy.gif']\n"
          ]
        }
      ]
    },
    {
      "cell_type": "code",
      "source": [
        "def get_img_data():\n",
        "  paths = [os.path.join('/content/yalefaces/train', f) for f in os.listdir('/content/yalefaces/train')]\n",
        "  #Pega o que está dentro da pasta train\n",
        "  faces = [] #define lista para faces\n",
        "  ids = []   #define lista para ids\n",
        "\n",
        "\n",
        "  #for para facilitar a transformação de todos os dados de uma vez.\n",
        "  for path in paths:\n",
        "    #print(path)\n",
        "    img = Image.open(path).convert('L') #abre a imagem e converte para 'L', que são os tons cinzas.\n",
        "    #print(type(img))\n",
        "    img_np = np.array(img, 'uint8')     #transforma a imagem cinza em uma array numpy, uint8 é o tipo de matriz\n",
        "    #print(img_np)\n",
        "    id = int(os.path.split(path)[1].split('.')[0].replace('subject', ''))#aqui só separaremos o nome da imagem do numero, e transformaremos em um inteiro, para ser nosso EXP\n",
        "    print(id)                                                            #por exemplo subject90, apos separar e transformaremos, obteremos o somente o numero 90\n",
        "    ids.append(id)      #adicionando cada id a lista de ids\n",
        "    faces.append(img_np)#adicionando cada face a lista de faces\n",
        "\n",
        "  return np.array(ids), faces #retornando as variaveis para podermos usar elas fora da função"
      ],
      "metadata": {
        "id": "38dfMmacmWRi"
      },
      "execution_count": null,
      "outputs": []
    },
    {
      "cell_type": "code",
      "source": [
        "ids, faces = get_img_data()"
      ],
      "metadata": {
        "id": "GwXpj2H7n61I",
        "colab": {
          "base_uri": "https://localhost:8080/"
        },
        "outputId": "5fc3f7be-9115-417c-8e18-e251c1a5c94a"
      },
      "execution_count": null,
      "outputs": [
        {
          "output_type": "stream",
          "name": "stdout",
          "text": [
            "11\n",
            "7\n",
            "2\n",
            "3\n",
            "13\n",
            "4\n",
            "14\n",
            "2\n",
            "7\n",
            "10\n",
            "11\n",
            "1\n",
            "12\n",
            "4\n",
            "2\n",
            "4\n",
            "5\n",
            "1\n",
            "13\n",
            "7\n",
            "15\n",
            "13\n",
            "14\n",
            "11\n",
            "8\n",
            "2\n",
            "7\n",
            "2\n",
            "9\n",
            "4\n",
            "1\n",
            "13\n",
            "3\n",
            "6\n",
            "4\n",
            "6\n",
            "1\n",
            "12\n",
            "15\n",
            "11\n",
            "12\n",
            "9\n",
            "6\n",
            "3\n",
            "4\n",
            "14\n",
            "2\n",
            "6\n",
            "3\n",
            "5\n",
            "8\n",
            "13\n",
            "15\n",
            "3\n",
            "14\n",
            "2\n",
            "7\n",
            "13\n",
            "4\n",
            "10\n",
            "9\n",
            "13\n",
            "14\n",
            "5\n",
            "8\n",
            "13\n",
            "7\n",
            "12\n",
            "5\n",
            "1\n",
            "4\n",
            "5\n",
            "1\n",
            "9\n",
            "2\n",
            "1\n",
            "7\n",
            "6\n",
            "14\n",
            "9\n",
            "8\n",
            "10\n",
            "10\n",
            "11\n",
            "14\n",
            "9\n",
            "6\n",
            "9\n",
            "7\n",
            "5\n",
            "9\n",
            "15\n",
            "3\n",
            "8\n",
            "8\n",
            "5\n",
            "2\n",
            "13\n",
            "4\n",
            "3\n",
            "3\n",
            "14\n",
            "1\n",
            "15\n",
            "11\n",
            "6\n",
            "15\n",
            "10\n",
            "3\n",
            "10\n",
            "8\n",
            "15\n",
            "9\n",
            "12\n",
            "7\n",
            "12\n",
            "5\n",
            "12\n",
            "8\n",
            "6\n",
            "8\n",
            "1\n",
            "15\n",
            "12\n",
            "10\n",
            "5\n",
            "10\n",
            "10\n",
            "6\n",
            "15\n",
            "12\n",
            "11\n",
            "14\n",
            "11\n",
            "11\n"
          ]
        }
      ]
    },
    {
      "cell_type": "code",
      "source": [
        "#prints para mostrar quais são as ids, a quantidade de ids, a primeira id e a ultima id.\n",
        "print(f'Ids = {ids}\\n\\nQtde = {len(ids)}\\n\\nPrimeiro = {ids[0]}\\n\\nUltimo = {ids[134]}')"
      ],
      "metadata": {
        "colab": {
          "base_uri": "https://localhost:8080/"
        },
        "id": "ySEYqtCiplRk",
        "outputId": "63d3e70b-74b6-401a-c071-1d22d75085fe"
      },
      "execution_count": null,
      "outputs": [
        {
          "output_type": "stream",
          "name": "stdout",
          "text": [
            "Ids = [11  7  2  3 13  4 14  2  7 10 11  1 12  4  2  4  5  1 13  7 15 13 14 11\n",
            "  8  2  7  2  9  4  1 13  3  6  4  6  1 12 15 11 12  9  6  3  4 14  2  6\n",
            "  3  5  8 13 15  3 14  2  7 13  4 10  9 13 14  5  8 13  7 12  5  1  4  5\n",
            "  1  9  2  1  7  6 14  9  8 10 10 11 14  9  6  9  7  5  9 15  3  8  8  5\n",
            "  2 13  4  3  3 14  1 15 11  6 15 10  3 10  8 15  9 12  7 12  5 12  8  6\n",
            "  8  1 15 12 10  5 10 10  6 15 12 11 14 11 11]\n",
            "\n",
            "Qtde = 135\n",
            "\n",
            "Primeiro = 11\n",
            "\n",
            "Ultimo = 11\n"
          ]
        }
      ]
    },
    {
      "cell_type": "code",
      "source": [
        "#a partir das informações contidas na lista ids, gerei um histográfico\n",
        "plt.figure(figsize = (15, 15))\n",
        "plt.hist(ids)\n",
        "plt.xlabel('ids');"
      ],
      "metadata": {
        "colab": {
          "base_uri": "https://localhost:8080/",
          "height": 631
        },
        "id": "5owf2OkVwQsO",
        "outputId": "afee75bf-4d77-4b6a-8579-a34e404db74c"
      },
      "execution_count": null,
      "outputs": [
        {
          "output_type": "display_data",
          "data": {
            "text/plain": [
              "<Figure size 1080x1080 with 1 Axes>"
            ],
            "image/png": "[encoded data removed]"
          },
          "metadata": {
            "needs_background": "light"
          }
        }
      ]
    },
    {
      "cell_type": "code",
      "source": [
        "#printei oq havia dentro da array faces, mostrei a quantidade de arrays que havia em faces, mostrei a primeira e a ultima face.\n",
        "print(f'faces = {faces}\\n\\nQtde = {len(faces)}\\n\\nPrimeiro = {faces[0]}\\n\\nUltimo = {faces[134]}')"
      ],
      "metadata": {
        "id": "exobEmWnr3rZ",
        "colab": {
          "base_uri": "https://localhost:8080/"
        },
        "outputId": "7e7afc72-bdf1-4c04-cca4-fa7cb9d5ea24"
      },
      "execution_count": null,
      "outputs": [
        {
          "output_type": "stream",
          "name": "stdout",
          "text": [
            "faces = [array([[130, 129, 121, ..., 190, 182, 185],\n",
            "       [255, 255, 255, ..., 183, 183, 192],\n",
            "       [255, 255, 255, ..., 175, 185, 209],\n",
            "       ...,\n",
            "       [161, 164, 161, ...,  47,  48,  50],\n",
            "       [163, 164, 161, ...,  50,  44,  43],\n",
            "       [ 68,  68,  68, ...,  68,  68,  68]], dtype=uint8), array([[130, 130, 130, ..., 255, 255, 255],\n",
            "       [255, 255, 255, ..., 255, 255, 255],\n",
            "       [255, 255, 255, ..., 255, 255, 255],\n",
            "       ...,\n",
            "       [255, 255, 255, ..., 255, 255, 255],\n",
            "       [255, 255, 255, ..., 255, 255, 255],\n",
            "       [ 68,  68,  68, ...,  68,  68,  68]], dtype=uint8), array([[110, 114, 125, ..., 255, 255, 242],\n",
            "       [238, 241, 255, ..., 255, 255, 249],\n",
            "       [253, 255, 255, ..., 255, 252, 244],\n",
            "       ...,\n",
            "       [255, 255, 255, ..., 186, 182, 182],\n",
            "       [255, 255, 255, ..., 182, 178, 175],\n",
            "       [ 68,  68,  68, ...,  68,  68,  68]], dtype=uint8), array([[130, 130, 130, ..., 255, 255, 255],\n",
            "       [255, 255, 255, ..., 255, 255, 255],\n",
            "       [255, 255, 255, ..., 255, 255, 255],\n",
            "       ...,\n",
            "       [255, 255, 255, ..., 255, 255, 255],\n",
            "       [255, 255, 255, ..., 255, 255, 255],\n",
            "       [ 68,  68,  68, ...,  68,  68,  68]], dtype=uint8), array([[130, 130, 130, ..., 253, 239, 255],\n",
            "       [255, 255, 255, ..., 255, 239, 255],\n",
            "       [255, 255, 255, ..., 255, 255, 255],\n",
            "       ...,\n",
            "       [255, 255, 255, ..., 115, 111, 116],\n",
            "       [255, 255, 255, ..., 119, 116, 119],\n",
            "       [ 68,  68,  68, ...,  68,  68,  68]], dtype=uint8), array([[130, 130, 130, ..., 255, 255, 255],\n",
            "       [255, 255, 255, ..., 255, 255, 255],\n",
            "       [255, 255, 255, ..., 255, 255, 255],\n",
            "       ...,\n",
            "       [255, 255, 255, ..., 238, 250, 251],\n",
            "       [255, 255, 255, ..., 211, 222, 230],\n",
            "       [ 68,  68,  68, ...,  68,  68,  68]], dtype=uint8), array([[130, 130, 130, ..., 255, 255, 255],\n",
            "       [255, 255, 255, ..., 255, 255, 255],\n",
            "       [255, 255, 255, ..., 255, 243, 244],\n",
            "       ...,\n",
            "       [255, 255, 255, ..., 255, 255, 255],\n",
            "       [255, 255, 255, ..., 255, 255, 255],\n",
            "       [ 68,  68,  68, ...,  68,  68,  68]], dtype=uint8), array([[109, 111, 123, ..., 255, 255, 241],\n",
            "       [231, 237, 255, ..., 255, 255, 245],\n",
            "       [252, 255, 255, ..., 255, 252, 244],\n",
            "       ...,\n",
            "       [255, 255, 255, ..., 188, 183, 185],\n",
            "       [255, 255, 255, ..., 185, 181, 178],\n",
            "       [ 68,  68,  68, ...,  68,  68,  68]], dtype=uint8), array([[130, 130, 130, ..., 255, 255, 255],\n",
            "       [255, 255, 255, ..., 255, 255, 255],\n",
            "       [255, 255, 255, ..., 255, 255, 255],\n",
            "       ...,\n",
            "       [255, 255, 255, ..., 255, 255, 255],\n",
            "       [255, 255, 255, ..., 255, 255, 255],\n",
            "       [ 68,  68,  68, ...,  68,  68,  68]], dtype=uint8), array([[130, 130, 130, ..., 255, 255, 255],\n",
            "       [255, 255, 255, ..., 255, 255, 255],\n",
            "       [255, 255, 255, ..., 255, 255, 255],\n",
            "       ...,\n",
            "       [255, 255, 255, ..., 235, 253, 255],\n",
            "       [255, 255, 255, ..., 229, 231, 249],\n",
            "       [ 68,  68,  68, ...,  68,  68,  68]], dtype=uint8), array([[130, 130, 130, ..., 255, 255, 255],\n",
            "       [255, 255, 255, ..., 255, 255, 255],\n",
            "       [255, 255, 255, ..., 255, 255, 255],\n",
            "       ...,\n",
            "       [255, 255, 255, ...,  65,  64,  65],\n",
            "       [248, 246, 245, ...,  55,  48,  48],\n",
            "       [ 68,  68,  68, ...,  68,  68,  68]], dtype=uint8), array([[130, 130, 130, ..., 255, 255, 255],\n",
            "       [255, 255, 255, ..., 255, 255, 255],\n",
            "       [255, 255, 255, ..., 255, 255, 255],\n",
            "       ...,\n",
            "       [255, 255, 255, ..., 255, 255, 255],\n",
            "       [255, 255, 255, ..., 255, 255, 255],\n",
            "       [ 68,  68,  68, ...,  68,  68,  68]], dtype=uint8), array([[111, 116, 121, ..., 244, 227, 236],\n",
            "       [248, 255, 255, ..., 250, 242, 255],\n",
            "       [255, 255, 255, ..., 255, 255, 255],\n",
            "       ...,\n",
            "       [231, 251, 255, ..., 173, 160, 166],\n",
            "       [238, 253, 250, ..., 179, 160, 161],\n",
            "       [ 68,  68,  68, ...,  68,  68,  68]], dtype=uint8), array([[130, 130, 130, ..., 255, 255, 255],\n",
            "       [255, 255, 255, ..., 255, 255, 255],\n",
            "       [255, 255, 255, ..., 255, 255, 255],\n",
            "       ...,\n",
            "       [255, 255, 255, ..., 251, 255, 255],\n",
            "       [255, 255, 255, ..., 225, 236, 244],\n",
            "       [ 68,  68,  68, ...,  68,  68,  68]], dtype=uint8), array([[ 75,  72,  72, ..., 255, 255, 255],\n",
            "       [170, 161, 164, ..., 255, 255, 255],\n",
            "       [163, 158, 159, ..., 255, 255, 255],\n",
            "       ...,\n",
            "       [145, 151, 153, ..., 255, 255, 253],\n",
            "       [146, 153, 159, ..., 255, 255, 255],\n",
            "       [ 68,  68,  68, ...,  68,  68,  68]], dtype=uint8), array([[130, 130, 130, ..., 255, 255, 255],\n",
            "       [255, 255, 255, ..., 255, 255, 255],\n",
            "       [255, 255, 255, ..., 255, 255, 255],\n",
            "       ...,\n",
            "       [255, 255, 255, ..., 239, 249, 253],\n",
            "       [255, 255, 255, ..., 214, 221, 235],\n",
            "       [ 68,  68,  68, ...,  68,  68,  68]], dtype=uint8), array([[130, 130, 130, ..., 255, 255, 255],\n",
            "       [255, 255, 255, ..., 255, 255, 255],\n",
            "       [255, 255, 255, ..., 255, 255, 255],\n",
            "       ...,\n",
            "       [251, 252, 253, ..., 182, 174, 176],\n",
            "       [229, 231, 232, ..., 227, 220, 214],\n",
            "       [ 68,  68,  68, ...,  68,  68,  68]], dtype=uint8), array([[130, 130, 130, ..., 216, 224, 244],\n",
            "       [255, 255, 255, ..., 215, 220, 245],\n",
            "       [255, 255, 255, ..., 231, 211, 231],\n",
            "       ...,\n",
            "       [255, 255, 255, ..., 192, 197, 203],\n",
            "       [255, 255, 255, ..., 189, 207, 215],\n",
            "       [ 68,  68,  68, ...,  68,  68,  68]], dtype=uint8), array([[130, 130, 130, ..., 255, 255, 255],\n",
            "       [255, 255, 255, ..., 255, 255, 255],\n",
            "       [255, 255, 255, ..., 255, 255, 255],\n",
            "       ...,\n",
            "       [255, 255, 255, ..., 195, 187, 190],\n",
            "       [255, 255, 255, ..., 211, 204, 210],\n",
            "       [ 68,  68,  68, ...,  68,  68,  68]], dtype=uint8), array([[130, 130, 130, ..., 255, 255, 255],\n",
            "       [255, 255, 255, ..., 255, 255, 255],\n",
            "       [255, 255, 255, ..., 255, 255, 255],\n",
            "       ...,\n",
            "       [255, 255, 255, ..., 255, 255, 255],\n",
            "       [255, 255, 255, ..., 255, 255, 255],\n",
            "       [ 68,  68,  68, ...,  68,  68,  68]], dtype=uint8), array([[130, 130, 130, ..., 255, 255, 255],\n",
            "       [255, 255, 255, ..., 255, 255, 255],\n",
            "       [255, 255, 255, ..., 255, 255, 255],\n",
            "       ...,\n",
            "       [255, 255, 255, ..., 248, 250, 255],\n",
            "       [255, 255, 255, ..., 246, 253, 255],\n",
            "       [ 68,  68,  68, ...,  68,  68,  68]], dtype=uint8), array([[130, 130, 130, ..., 255, 255, 255],\n",
            "       [255, 255, 255, ..., 255, 255, 255],\n",
            "       [255, 255, 255, ..., 255, 255, 255],\n",
            "       ...,\n",
            "       [255, 255, 255, ..., 200, 192, 195],\n",
            "       [255, 255, 255, ..., 217, 208, 217],\n",
            "       [ 68,  68,  68, ...,  68,  68,  68]], dtype=uint8), array([[130, 130, 130, ..., 255, 255, 255],\n",
            "       [255, 255, 255, ..., 255, 255, 255],\n",
            "       [255, 255, 255, ..., 255, 255, 255],\n",
            "       ...,\n",
            "       [255, 255, 255, ..., 255, 255, 255],\n",
            "       [255, 255, 255, ..., 255, 255, 255],\n",
            "       [ 68,  68,  68, ...,  68,  68,  68]], dtype=uint8), array([[105, 103, 109, ..., 255, 255, 255],\n",
            "       [230, 228, 237, ..., 255, 255, 255],\n",
            "       [224, 227, 238, ..., 255, 255, 255],\n",
            "       ...,\n",
            "       [ 68,  69,  69, ..., 126, 114, 103],\n",
            "       [ 65,  66,  66, ..., 126, 114, 103],\n",
            "       [ 68,  68,  68, ...,  68,  68,  68]], dtype=uint8), array([[130, 130, 130, ..., 255, 255, 255],\n",
            "       [255, 255, 255, ..., 255, 255, 255],\n",
            "       [255, 255, 255, ..., 255, 255, 255],\n",
            "       ...,\n",
            "       [255, 255, 255, ..., 222, 211, 224],\n",
            "       [255, 255, 255, ..., 203, 207, 221],\n",
            "       [ 68,  68,  68, ...,  68,  68,  68]], dtype=uint8), array([[109, 111, 124, ..., 255, 253, 239],\n",
            "       [234, 237, 255, ..., 255, 255, 245],\n",
            "       [251, 255, 255, ..., 255, 251, 241],\n",
            "       ...,\n",
            "       [255, 255, 255, ..., 179, 173, 174],\n",
            "       [255, 255, 255, ..., 176, 173, 171],\n",
            "       [ 68,  68,  68, ...,  68,  68,  68]], dtype=uint8), array([[130, 130, 130, ..., 255, 255, 255],\n",
            "       [255, 255, 255, ..., 255, 255, 255],\n",
            "       [255, 255, 255, ..., 255, 255, 255],\n",
            "       ...,\n",
            "       [255, 255, 255, ..., 255, 255, 255],\n",
            "       [255, 255, 255, ..., 255, 255, 255],\n",
            "       [ 68,  68,  68, ...,  68,  68,  68]], dtype=uint8), array([[109, 111, 124, ..., 255, 255, 243],\n",
            "       [235, 239, 255, ..., 255, 253, 244],\n",
            "       [253, 255, 255, ..., 253, 251, 243],\n",
            "       ...,\n",
            "       [255, 255, 255, ..., 187, 183, 183],\n",
            "       [255, 255, 255, ..., 183, 180, 179],\n",
            "       [ 68,  68,  68, ...,  68,  68,  68]], dtype=uint8), array([[130, 130, 130, ..., 255, 255, 255],\n",
            "       [255, 255, 255, ..., 255, 255, 255],\n",
            "       [255, 255, 255, ..., 255, 255, 255],\n",
            "       ...,\n",
            "       [255, 255, 255, ..., 255, 244, 242],\n",
            "       [255, 255, 255, ..., 255, 241, 243],\n",
            "       [ 68,  68,  68, ...,  68,  68,  68]], dtype=uint8), array([[130, 130, 130, ..., 255, 255, 255],\n",
            "       [255, 255, 255, ..., 255, 255, 255],\n",
            "       [255, 255, 255, ..., 255, 255, 255],\n",
            "       ...,\n",
            "       [255, 255, 255, ..., 252, 255, 255],\n",
            "       [255, 255, 255, ..., 225, 236, 244],\n",
            "       [ 68,  68,  68, ...,  68,  68,  68]], dtype=uint8), array([[130, 130, 130, ..., 255, 255, 255],\n",
            "       [255, 255, 255, ..., 255, 255, 255],\n",
            "       [255, 255, 255, ..., 255, 255, 255],\n",
            "       ...,\n",
            "       [255, 255, 255, ..., 255, 255, 255],\n",
            "       [255, 255, 255, ..., 255, 255, 255],\n",
            "       [ 68,  68,  68, ...,  68,  68,  68]], dtype=uint8), array([[130, 130, 130, ..., 255, 255, 255],\n",
            "       [255, 255, 255, ..., 255, 255, 255],\n",
            "       [255, 255, 255, ..., 255, 255, 255],\n",
            "       ...,\n",
            "       [255, 255, 255, ..., 190, 182, 187],\n",
            "       [255, 255, 255, ..., 207, 200, 207],\n",
            "       [ 68,  68,  68, ...,  68,  68,  68]], dtype=uint8), array([[130, 130, 130, ..., 255, 255, 255],\n",
            "       [255, 255, 255, ..., 255, 255, 255],\n",
            "       [255, 255, 255, ..., 255, 255, 255],\n",
            "       ...,\n",
            "       [255, 255, 255, ..., 255, 255, 255],\n",
            "       [255, 255, 255, ..., 255, 255, 255],\n",
            "       [ 68,  68,  68, ...,  68,  68,  68]], dtype=uint8), array([[122, 112, 109, ..., 255, 255, 255],\n",
            "       [255, 246, 241, ..., 255, 255, 255],\n",
            "       [252, 244, 252, ..., 255, 255, 255],\n",
            "       ...,\n",
            "       [ 78,  79,  76, ..., 255, 255, 255],\n",
            "       [ 79,  79,  76, ..., 255, 255, 255],\n",
            "       [ 68,  68,  68, ...,  68,  68,  68]], dtype=uint8), array([[130, 130, 130, ..., 255, 255, 255],\n",
            "       [255, 255, 255, ..., 255, 255, 255],\n",
            "       [255, 255, 255, ..., 255, 255, 255],\n",
            "       ...,\n",
            "       [255, 255, 255, ..., 255, 255, 255],\n",
            "       [255, 255, 255, ..., 255, 253, 255],\n",
            "       [ 68,  68,  68, ...,  68,  68,  68]], dtype=uint8), array([[110,  96,  91, ..., 224, 224, 236],\n",
            "       [239, 218, 211, ..., 244, 236, 239],\n",
            "       [255, 255, 255, ..., 255, 255, 255],\n",
            "       ...,\n",
            "       [199, 192, 195, ..., 227, 210, 221],\n",
            "       [204, 199, 202, ..., 228, 203, 202],\n",
            "       [ 68,  68,  68, ...,  68,  68,  68]], dtype=uint8), array([[130, 130, 130, ..., 255, 255, 255],\n",
            "       [255, 255, 255, ..., 255, 255, 255],\n",
            "       [255, 255, 255, ..., 255, 255, 255],\n",
            "       ...,\n",
            "       [255, 255, 255, ..., 252, 255, 255],\n",
            "       [255, 255, 255, ..., 255, 255, 255],\n",
            "       [ 68,  68,  68, ...,  68,  68,  68]], dtype=uint8), array([[130, 128, 108, ..., 253, 244, 255],\n",
            "       [255, 255, 220, ..., 249, 243, 255],\n",
            "       [246, 223, 232, ..., 252, 241, 255],\n",
            "       ...,\n",
            "       [249, 246, 255, ..., 160, 161, 163],\n",
            "       [255, 252, 255, ..., 154, 159, 163],\n",
            "       [ 68,  68,  68, ...,  68,  68,  68]], dtype=uint8), array([[130, 130, 130, ..., 255, 255, 255],\n",
            "       [255, 255, 255, ..., 255, 255, 255],\n",
            "       [255, 255, 255, ..., 255, 255, 255],\n",
            "       ...,\n",
            "       [255, 255, 255, ..., 251, 252, 255],\n",
            "       [255, 255, 255, ..., 248, 255, 255],\n",
            "       [ 68,  68,  68, ...,  68,  68,  68]], dtype=uint8), array([[130, 130, 130, ..., 255, 255, 255],\n",
            "       [255, 255, 255, ..., 255, 255, 255],\n",
            "       [255, 255, 255, ..., 255, 255, 255],\n",
            "       ...,\n",
            "       [255, 255, 255, ..., 146, 132, 147],\n",
            "       [248, 245, 244, ..., 142, 129, 140],\n",
            "       [ 68,  68,  68, ...,  68,  68,  68]], dtype=uint8), array([[130, 130, 130, ..., 255, 251, 255],\n",
            "       [255, 255, 255, ..., 255, 242, 255],\n",
            "       [255, 255, 255, ..., 255, 253, 255],\n",
            "       ...,\n",
            "       [255, 255, 255, ...,  51,  47,  48],\n",
            "       [255, 255, 255, ...,  51,  47,  48],\n",
            "       [ 68,  68,  68, ...,  68,  68,  68]], dtype=uint8), array([[130, 130, 130, ..., 255, 255, 255],\n",
            "       [255, 255, 255, ..., 255, 255, 255],\n",
            "       [255, 255, 255, ..., 255, 255, 255],\n",
            "       ...,\n",
            "       [255, 255, 255, ..., 255, 253, 250],\n",
            "       [255, 255, 255, ..., 255, 248, 248],\n",
            "       [ 68,  68,  68, ...,  68,  68,  68]], dtype=uint8), array([[112,  97,  93, ..., 227, 225, 235],\n",
            "       [241, 218, 211, ..., 246, 237, 242],\n",
            "       [255, 255, 255, ..., 255, 255, 255],\n",
            "       ...,\n",
            "       [196, 188, 192, ..., 232, 213, 223],\n",
            "       [200, 193, 199, ..., 216, 197, 207],\n",
            "       [ 68,  68,  68, ...,  68,  68,  68]], dtype=uint8), array([[130, 130, 130, ..., 255, 255, 255],\n",
            "       [255, 255, 255, ..., 255, 255, 255],\n",
            "       [255, 255, 255, ..., 255, 255, 255],\n",
            "       ...,\n",
            "       [255, 255, 255, ..., 255, 255, 255],\n",
            "       [255, 255, 255, ..., 255, 255, 255],\n",
            "       [ 68,  68,  68, ...,  68,  68,  68]], dtype=uint8), array([[ 85,  76,  72, ..., 232, 220, 218],\n",
            "       [186, 174, 164, ..., 232, 216, 217],\n",
            "       [151, 152, 154, ..., 223, 208, 224],\n",
            "       ...,\n",
            "       [ 68,  68,  66, ..., 174, 200, 236],\n",
            "       [ 72,  69,  66, ..., 172, 192, 230],\n",
            "       [ 68,  68,  68, ...,  68,  68,  68]], dtype=uint8), array([[130, 130, 130, ..., 255, 255, 255],\n",
            "       [255, 255, 255, ..., 255, 255, 255],\n",
            "       [255, 255, 255, ..., 255, 242, 243],\n",
            "       ...,\n",
            "       [255, 255, 255, ..., 255, 255, 255],\n",
            "       [255, 255, 255, ..., 255, 255, 255],\n",
            "       [ 68,  68,  68, ...,  68,  68,  68]], dtype=uint8), array([[109, 111, 124, ..., 255, 253, 239],\n",
            "       [234, 237, 255, ..., 255, 255, 245],\n",
            "       [251, 255, 255, ..., 255, 251, 241],\n",
            "       ...,\n",
            "       [255, 255, 255, ..., 179, 173, 174],\n",
            "       [255, 255, 255, ..., 176, 173, 171],\n",
            "       [ 68,  68,  68, ...,  68,  68,  68]], dtype=uint8), array([[109,  95,  90, ..., 220, 230, 235],\n",
            "       [237, 215, 210, ..., 244, 236, 239],\n",
            "       [255, 255, 255, ..., 255, 255, 255],\n",
            "       ...,\n",
            "       [187, 179, 183, ..., 235, 216, 225],\n",
            "       [190, 183, 189, ..., 220, 200, 209],\n",
            "       [ 68,  68,  68, ...,  68,  68,  68]], dtype=uint8), array([[130, 130, 130, ..., 255, 255, 255],\n",
            "       [255, 255, 255, ..., 255, 255, 255],\n",
            "       [255, 255, 255, ..., 255, 255, 255],\n",
            "       ...,\n",
            "       [255, 255, 255, ..., 255, 255, 255],\n",
            "       [255, 255, 255, ..., 255, 255, 255],\n",
            "       [ 68,  68,  68, ...,  68,  68,  68]], dtype=uint8), array([[ 55,  68,  75, ..., 196, 181, 210],\n",
            "       [130, 156, 170, ..., 183, 188, 210],\n",
            "       [130, 131, 146, ..., 203, 195, 200],\n",
            "       ...,\n",
            "       [ 33,  33,  33, ..., 112, 109, 111],\n",
            "       [ 34,  34,  34, ..., 118, 115, 118],\n",
            "       [ 68,  68,  68, ...,  68,  68,  68]], dtype=uint8), array([[130, 130, 130, ..., 252, 245, 255],\n",
            "       [255, 255, 255, ..., 255, 246, 255],\n",
            "       [255, 255, 255, ..., 231, 249, 255],\n",
            "       ...,\n",
            "       [255, 255, 255, ...,  37,  36,  38],\n",
            "       [255, 255, 255, ...,  37,  34,  37],\n",
            "       [ 68,  68,  68, ...,  68,  68,  68]], dtype=uint8), array([[130, 130, 130, ..., 255, 255, 255],\n",
            "       [255, 255, 255, ..., 255, 255, 255],\n",
            "       [255, 255, 255, ..., 255, 255, 255],\n",
            "       ...,\n",
            "       [255, 255, 255, ..., 201, 193, 196],\n",
            "       [255, 255, 255, ..., 217, 209, 218],\n",
            "       [ 68,  68,  68, ...,  68,  68,  68]], dtype=uint8), array([[108, 116, 117, ..., 156, 147, 167],\n",
            "       [237, 248, 244, ..., 163, 152, 171],\n",
            "       [236, 243, 228, ..., 158, 157, 175],\n",
            "       ...,\n",
            "       [231, 223, 222, ..., 130, 123, 123],\n",
            "       [241, 227, 230, ..., 124, 114, 122],\n",
            "       [ 68,  68,  68, ...,  68,  68,  68]], dtype=uint8), array([[130, 130, 130, ..., 255, 255, 255],\n",
            "       [255, 255, 255, ..., 255, 255, 255],\n",
            "       [255, 255, 255, ..., 255, 255, 255],\n",
            "       ...,\n",
            "       [255, 255, 255, ..., 255, 255, 255],\n",
            "       [255, 255, 255, ..., 255, 255, 255],\n",
            "       [ 68,  68,  68, ...,  68,  68,  68]], dtype=uint8), array([[130, 130, 130, ..., 255, 255, 255],\n",
            "       [255, 255, 255, ..., 255, 255, 255],\n",
            "       [255, 255, 255, ..., 255, 243, 245],\n",
            "       ...,\n",
            "       [255, 255, 255, ..., 255, 255, 255],\n",
            "       [255, 255, 255, ..., 255, 255, 255],\n",
            "       [ 68,  68,  68, ...,  68,  68,  68]], dtype=uint8), array([[109, 111, 124, ..., 255, 255, 241],\n",
            "       [235, 238, 255, ..., 255, 255, 245],\n",
            "       [252, 255, 255, ..., 255, 252, 244],\n",
            "       ...,\n",
            "       [255, 255, 255, ..., 186, 180, 180],\n",
            "       [255, 255, 255, ..., 181, 179, 175],\n",
            "       [ 68,  68,  68, ...,  68,  68,  68]], dtype=uint8), array([[130, 130, 130, ..., 255, 255, 255],\n",
            "       [255, 255, 255, ..., 255, 255, 255],\n",
            "       [255, 255, 255, ..., 255, 255, 255],\n",
            "       ...,\n",
            "       [255, 255, 255, ..., 255, 255, 255],\n",
            "       [255, 255, 255, ..., 255, 255, 255],\n",
            "       [ 68,  68,  68, ...,  68,  68,  68]], dtype=uint8), array([[130, 130, 130, ..., 255, 255, 255],\n",
            "       [255, 255, 255, ..., 255, 255, 255],\n",
            "       [255, 255, 255, ..., 255, 255, 255],\n",
            "       ...,\n",
            "       [255, 255, 255, ..., 237, 231, 237],\n",
            "       [255, 255, 255, ..., 241, 236, 244],\n",
            "       [ 68,  68,  68, ...,  68,  68,  68]], dtype=uint8), array([[130, 130, 130, ..., 255, 255, 255],\n",
            "       [255, 255, 255, ..., 255, 255, 255],\n",
            "       [255, 255, 255, ..., 255, 255, 255],\n",
            "       ...,\n",
            "       [255, 255, 255, ..., 235, 246, 250],\n",
            "       [255, 255, 255, ..., 209, 216, 228],\n",
            "       [ 68,  68,  68, ...,  68,  68,  68]], dtype=uint8), array([[130, 130, 130, ..., 255, 255, 255],\n",
            "       [255, 255, 255, ..., 255, 255, 255],\n",
            "       [255, 255, 255, ..., 255, 255, 255],\n",
            "       ...,\n",
            "       [255, 255, 255, ..., 243, 255, 255],\n",
            "       [255, 255, 255, ..., 238, 241, 255],\n",
            "       [ 68,  68,  68, ...,  68,  68,  68]], dtype=uint8), array([[130, 130, 130, ..., 255, 255, 255],\n",
            "       [255, 255, 255, ..., 255, 255, 255],\n",
            "       [255, 255, 255, ..., 255, 255, 255],\n",
            "       ...,\n",
            "       [255, 255, 255, ..., 255, 255, 255],\n",
            "       [255, 255, 255, ..., 255, 255, 255],\n",
            "       [ 68,  68,  68, ...,  68,  68,  68]], dtype=uint8), array([[130, 130, 130, ..., 255, 255, 255],\n",
            "       [255, 255, 255, ..., 255, 255, 255],\n",
            "       [255, 255, 255, ..., 255, 255, 255],\n",
            "       ...,\n",
            "       [255, 255, 255, ..., 203, 195, 199],\n",
            "       [255, 255, 255, ..., 218, 210, 218],\n",
            "       [ 68,  68,  68, ...,  68,  68,  68]], dtype=uint8), array([[130, 130, 130, ..., 255, 255, 255],\n",
            "       [255, 255, 255, ..., 255, 255, 255],\n",
            "       [255, 255, 255, ..., 255, 255, 255],\n",
            "       ...,\n",
            "       [255, 255, 255, ..., 255, 255, 255],\n",
            "       [255, 255, 255, ..., 255, 255, 255],\n",
            "       [ 68,  68,  68, ...,  68,  68,  68]], dtype=uint8), array([[119, 129, 130, ..., 255, 255, 255],\n",
            "       [253, 255, 255, ..., 255, 255, 255],\n",
            "       [255, 255, 255, ..., 255, 255, 255],\n",
            "       ...,\n",
            "       [255, 255, 255, ...,  91,  88,  91],\n",
            "       [255, 255, 255, ..., 101,  98, 102],\n",
            "       [ 68,  68,  68, ...,  68,  68,  68]], dtype=uint8), array([[130, 130, 130, ..., 255, 255, 255],\n",
            "       [255, 255, 255, ..., 255, 255, 255],\n",
            "       [255, 255, 255, ..., 255, 255, 255],\n",
            "       ...,\n",
            "       [255, 255, 255, ..., 246, 221, 213],\n",
            "       [255, 255, 255, ..., 248, 215, 201],\n",
            "       [ 68,  68,  68, ...,  68,  68,  68]], dtype=uint8), array([[ 97, 107, 119, ..., 255, 255, 255],\n",
            "       [221, 239, 255, ..., 255, 255, 255],\n",
            "       [221, 255, 255, ..., 255, 255, 255],\n",
            "       ...,\n",
            "       [110, 112, 111, ..., 158, 154, 159],\n",
            "       [111, 110, 111, ..., 163, 158, 165],\n",
            "       [ 68,  68,  68, ...,  68,  68,  68]], dtype=uint8), array([[114, 109, 111, ..., 255, 255, 255],\n",
            "       [249, 241, 244, ..., 255, 255, 255],\n",
            "       [255, 255, 246, ..., 255, 255, 255],\n",
            "       ...,\n",
            "       [204, 204, 204, ..., 250, 255, 255],\n",
            "       [202, 200, 199, ..., 252, 255, 255],\n",
            "       [ 68,  68,  68, ...,  68,  68,  68]], dtype=uint8), array([[110, 117, 121, ..., 251, 231, 241],\n",
            "       [250, 255, 255, ..., 249, 243, 252],\n",
            "       [255, 255, 255, ..., 255, 255, 255],\n",
            "       ...,\n",
            "       [243, 255, 255, ..., 167, 156, 160],\n",
            "       [246, 255, 255, ..., 171, 153, 154],\n",
            "       [ 68,  68,  68, ...,  68,  68,  68]], dtype=uint8), array([[119, 129, 130, ..., 255, 255, 255],\n",
            "       [251, 255, 255, ..., 255, 255, 255],\n",
            "       [255, 255, 255, ..., 255, 255, 255],\n",
            "       ...,\n",
            "       [255, 255, 255, ...,  93,  89,  93],\n",
            "       [255, 255, 255, ..., 102,  98, 102],\n",
            "       [ 68,  68,  68, ...,  68,  68,  68]], dtype=uint8), array([[130, 130, 130, ..., 255, 255, 255],\n",
            "       [255, 255, 255, ..., 255, 255, 255],\n",
            "       [255, 255, 255, ..., 255, 255, 255],\n",
            "       ...,\n",
            "       [255, 255, 255, ..., 244, 255, 255],\n",
            "       [255, 255, 255, ..., 255, 253, 255],\n",
            "       [ 68,  68,  68, ...,  68,  68,  68]], dtype=uint8), array([[130, 130, 130, ..., 255, 255, 255],\n",
            "       [255, 255, 255, ..., 255, 255, 255],\n",
            "       [255, 255, 255, ..., 255, 255, 255],\n",
            "       ...,\n",
            "       [255, 255, 255, ..., 249, 255, 255],\n",
            "       [255, 255, 255, ..., 222, 231, 243],\n",
            "       [ 68,  68,  68, ...,  68,  68,  68]], dtype=uint8), array([[118, 129, 130, ..., 255, 255, 255],\n",
            "       [253, 255, 255, ..., 255, 255, 255],\n",
            "       [255, 255, 255, ..., 255, 255, 255],\n",
            "       ...,\n",
            "       [255, 255, 255, ...,  91,  88,  91],\n",
            "       [255, 255, 255, ..., 101,  97, 102],\n",
            "       [ 68,  68,  68, ...,  68,  68,  68]], dtype=uint8), array([[130, 130, 130, ..., 255, 255, 255],\n",
            "       [255, 255, 255, ..., 255, 255, 255],\n",
            "       [255, 255, 255, ..., 255, 255, 255],\n",
            "       ...,\n",
            "       [255, 255, 255, ..., 255, 255, 255],\n",
            "       [255, 255, 255, ..., 255, 255, 255],\n",
            "       [ 68,  68,  68, ...,  68,  68,  68]], dtype=uint8), array([[130, 130, 130, ..., 255, 255, 255],\n",
            "       [255, 255, 255, ..., 255, 255, 255],\n",
            "       [255, 255, 255, ..., 255, 255, 255],\n",
            "       ...,\n",
            "       [255, 255, 255, ..., 255, 239, 238],\n",
            "       [255, 255, 255, ..., 255, 234, 238],\n",
            "       [ 68,  68,  68, ...,  68,  68,  68]], dtype=uint8), array([[109, 112, 124, ..., 255, 255, 241],\n",
            "       [236, 239, 255, ..., 255, 255, 244],\n",
            "       [252, 255, 255, ..., 255, 251, 243],\n",
            "       ...,\n",
            "       [255, 255, 255, ..., 183, 181, 182],\n",
            "       [255, 255, 255, ..., 182, 178, 175],\n",
            "       [ 68,  68,  68, ...,  68,  68,  68]], dtype=uint8), array([[ 37,  38,  36, ..., 222, 196, 185],\n",
            "       [ 91,  94,  91, ..., 215, 194, 178],\n",
            "       [ 86,  87,  87, ..., 214, 203, 204],\n",
            "       ...,\n",
            "       [ 57,  62,  59, ..., 186, 163, 164],\n",
            "       [ 59,  64,  59, ..., 187, 152, 151],\n",
            "       [ 68,  68,  68, ...,  68,  68,  68]], dtype=uint8), array([[130, 130, 130, ..., 255, 255, 255],\n",
            "       [255, 255, 255, ..., 255, 255, 255],\n",
            "       [255, 255, 255, ..., 255, 255, 255],\n",
            "       ...,\n",
            "       [255, 255, 255, ..., 255, 255, 255],\n",
            "       [255, 255, 255, ..., 255, 255, 255],\n",
            "       [ 68,  68,  68, ...,  68,  68,  68]], dtype=uint8), array([[109,  95,  89, ..., 224, 224, 232],\n",
            "       [237, 213, 207, ..., 242, 235, 236],\n",
            "       [255, 255, 255, ..., 255, 255, 255],\n",
            "       ...,\n",
            "       [188, 179, 183, ..., 229, 213, 223],\n",
            "       [192, 182, 188, ..., 214, 194, 204],\n",
            "       [ 68,  68,  68, ...,  68,  68,  68]], dtype=uint8), array([[130, 130, 130, ..., 255, 255, 255],\n",
            "       [255, 255, 255, ..., 255, 255, 255],\n",
            "       [255, 255, 255, ..., 255, 241, 242],\n",
            "       ...,\n",
            "       [255, 255, 255, ..., 255, 255, 255],\n",
            "       [255, 255, 255, ..., 255, 255, 255],\n",
            "       [ 68,  68,  68, ...,  68,  68,  68]], dtype=uint8), array([[130, 130, 130, ..., 255, 255, 255],\n",
            "       [255, 255, 255, ..., 255, 255, 255],\n",
            "       [255, 255, 255, ..., 255, 255, 255],\n",
            "       ...,\n",
            "       [255, 255, 255, ..., 255, 242, 239],\n",
            "       [255, 255, 255, ..., 255, 237, 239],\n",
            "       [ 68,  68,  68, ...,  68,  68,  68]], dtype=uint8), array([[130, 130, 130, ..., 255, 255, 255],\n",
            "       [255, 255, 255, ..., 255, 255, 255],\n",
            "       [255, 255, 255, ..., 255, 255, 255],\n",
            "       ...,\n",
            "       [255, 255, 255, ..., 249, 225, 217],\n",
            "       [255, 255, 255, ..., 255, 222, 206],\n",
            "       [ 68,  68,  68, ...,  68,  68,  68]], dtype=uint8), array([[122, 118, 118, ..., 255, 255, 255],\n",
            "       [255, 255, 255, ..., 255, 255, 255],\n",
            "       [255, 255, 251, ..., 255, 255, 255],\n",
            "       ...,\n",
            "       [100, 108, 114, ..., 255, 255, 255],\n",
            "       [104, 112, 114, ..., 255, 255, 255],\n",
            "       [ 68,  68,  68, ...,  68,  68,  68]], dtype=uint8), array([[130, 130, 130, ..., 255, 255, 255],\n",
            "       [255, 255, 255, ..., 255, 255, 255],\n",
            "       [255, 255, 255, ..., 255, 255, 255],\n",
            "       ...,\n",
            "       [255, 255, 255, ..., 244, 255, 255],\n",
            "       [255, 255, 255, ..., 238, 242, 255],\n",
            "       [ 68,  68,  68, ...,  68,  68,  68]], dtype=uint8), array([[130, 130, 130, ..., 255, 255, 255],\n",
            "       [255, 255, 255, ..., 255, 255, 255],\n",
            "       [255, 255, 255, ..., 255, 255, 255],\n",
            "       ...,\n",
            "       [255, 255, 255, ..., 174, 152, 132],\n",
            "       [245, 244, 243, ..., 171, 164, 145],\n",
            "       [ 68,  68,  68, ...,  68,  68,  68]], dtype=uint8), array([[130, 130, 130, ..., 255, 255, 255],\n",
            "       [255, 255, 255, ..., 255, 255, 255],\n",
            "       [255, 255, 255, ..., 255, 241, 241],\n",
            "       ...,\n",
            "       [255, 255, 255, ..., 255, 255, 255],\n",
            "       [255, 255, 255, ..., 255, 255, 255],\n",
            "       [ 68,  68,  68, ...,  68,  68,  68]], dtype=uint8), array([[130, 130, 130, ..., 255, 255, 255],\n",
            "       [255, 255, 255, ..., 255, 255, 255],\n",
            "       [255, 255, 255, ..., 255, 255, 255],\n",
            "       ...,\n",
            "       [255, 255, 255, ...,  41,  41,  46],\n",
            "       [255, 255, 255, ...,  41,  40,  44],\n",
            "       [ 68,  68,  68, ...,  68,  68,  68]], dtype=uint8), array([[110,  96,  91, ..., 227, 225, 236],\n",
            "       [239, 217, 213, ..., 244, 237, 239],\n",
            "       [255, 255, 255, ..., 255, 255, 255],\n",
            "       ...,\n",
            "       [189, 181, 185, ..., 232, 215, 224],\n",
            "       [192, 186, 190, ..., 217, 199, 207],\n",
            "       [ 68,  68,  68, ...,  68,  68,  68]], dtype=uint8), array([[130, 130, 130, ..., 255, 255, 255],\n",
            "       [255, 255, 255, ..., 255, 255, 255],\n",
            "       [255, 255, 255, ..., 255, 255, 255],\n",
            "       ...,\n",
            "       [255, 255, 255, ..., 255, 246, 243],\n",
            "       [255, 255, 255, ..., 255, 239, 241],\n",
            "       [ 68,  68,  68, ...,  68,  68,  68]], dtype=uint8), array([[130, 130, 130, ..., 255, 255, 255],\n",
            "       [255, 255, 255, ..., 255, 255, 255],\n",
            "       [255, 255, 255, ..., 255, 255, 255],\n",
            "       ...,\n",
            "       [255, 255, 255, ..., 255, 255, 255],\n",
            "       [255, 255, 255, ..., 255, 255, 255],\n",
            "       [ 68,  68,  68, ...,  68,  68,  68]], dtype=uint8), array([[117, 129, 130, ..., 255, 255, 255],\n",
            "       [252, 255, 255, ..., 255, 255, 255],\n",
            "       [255, 255, 255, ..., 255, 255, 255],\n",
            "       ...,\n",
            "       [255, 255, 255, ...,  93,  89,  93],\n",
            "       [255, 255, 255, ..., 102,  97, 101],\n",
            "       [ 68,  68,  68, ...,  68,  68,  68]], dtype=uint8), array([[130, 130, 130, ..., 255, 255, 255],\n",
            "       [255, 255, 255, ..., 255, 255, 255],\n",
            "       [255, 255, 255, ..., 255, 255, 255],\n",
            "       ...,\n",
            "       [255, 255, 255, ..., 229, 196, 199],\n",
            "       [255, 255, 255, ..., 227, 194, 197],\n",
            "       [ 68,  68,  68, ...,  68,  68,  68]], dtype=uint8), array([[124, 116, 102, ..., 255, 242, 246],\n",
            "       [255, 251, 230, ..., 255, 246, 248],\n",
            "       [246, 227, 231, ..., 255, 255, 255],\n",
            "       ...,\n",
            "       [243, 245, 255, ..., 231, 220, 216],\n",
            "       [255, 255, 255, ..., 213, 206, 218],\n",
            "       [ 68,  68,  68, ...,  68,  68,  68]], dtype=uint8), array([[130, 130, 130, ..., 255, 255, 255],\n",
            "       [255, 255, 255, ..., 255, 255, 255],\n",
            "       [255, 255, 255, ..., 255, 255, 255],\n",
            "       ...,\n",
            "       [255, 255, 255, ..., 255, 255, 255],\n",
            "       [255, 255, 255, ..., 255, 255, 255],\n",
            "       [ 68,  68,  68, ...,  68,  68,  68]], dtype=uint8), array([[130, 130, 130, ..., 255, 255, 255],\n",
            "       [255, 255, 255, ..., 255, 255, 255],\n",
            "       [255, 255, 255, ..., 255, 255, 255],\n",
            "       ...,\n",
            "       [255, 255, 255, ..., 255, 245, 237],\n",
            "       [255, 255, 255, ..., 255, 238, 235],\n",
            "       [ 68,  68,  68, ...,  68,  68,  68]], dtype=uint8), array([[130, 130, 130, ..., 255, 255, 255],\n",
            "       [255, 255, 255, ..., 255, 255, 255],\n",
            "       [255, 255, 255, ..., 255, 255, 255],\n",
            "       ...,\n",
            "       [255, 255, 255, ..., 255, 255, 255],\n",
            "       [255, 255, 255, ..., 255, 255, 255],\n",
            "       [ 68,  68,  68, ...,  68,  68,  68]], dtype=uint8), array([[117, 129, 130, ..., 255, 255, 255],\n",
            "       [249, 255, 255, ..., 255, 255, 255],\n",
            "       [255, 255, 255, ..., 255, 255, 255],\n",
            "       ...,\n",
            "       [255, 255, 255, ...,  93,  89,  90],\n",
            "       [255, 255, 255, ..., 100,  96, 101],\n",
            "       [ 68,  68,  68, ...,  68,  68,  68]], dtype=uint8), array([[108, 110, 123, ..., 255, 253, 239],\n",
            "       [234, 238, 255, ..., 255, 253, 245],\n",
            "       [251, 253, 255, ..., 255, 252, 242],\n",
            "       ...,\n",
            "       [255, 255, 255, ..., 178, 175, 176],\n",
            "       [255, 255, 255, ..., 176, 174, 171],\n",
            "       [ 68,  68,  68, ...,  68,  68,  68]], dtype=uint8), array([[130, 130, 130, ..., 255, 255, 255],\n",
            "       [255, 255, 255, ..., 255, 255, 255],\n",
            "       [255, 255, 255, ..., 255, 255, 255],\n",
            "       ...,\n",
            "       [255, 255, 255, ..., 201, 195, 199],\n",
            "       [255, 255, 255, ..., 218, 211, 217],\n",
            "       [ 68,  68,  68, ...,  68,  68,  68]], dtype=uint8), array([[130, 130, 130, ..., 255, 255, 255],\n",
            "       [255, 255, 255, ..., 255, 255, 255],\n",
            "       [255, 255, 255, ..., 255, 255, 255],\n",
            "       ...,\n",
            "       [255, 255, 255, ..., 251, 255, 255],\n",
            "       [255, 255, 255, ..., 225, 236, 244],\n",
            "       [ 68,  68,  68, ...,  68,  68,  68]], dtype=uint8), array([[130, 130, 130, ..., 255, 255, 255],\n",
            "       [255, 255, 255, ..., 255, 255, 255],\n",
            "       [255, 255, 255, ..., 255, 255, 255],\n",
            "       ...,\n",
            "       [255, 255, 255, ..., 255, 255, 255],\n",
            "       [255, 255, 255, ..., 255, 255, 255],\n",
            "       [ 68,  68,  68, ...,  68,  68,  68]], dtype=uint8), array([[ 78,  72,  79, ..., 255, 255, 248],\n",
            "       [171, 160, 176, ..., 255, 255, 249],\n",
            "       [165, 170, 180, ..., 250, 251, 255],\n",
            "       ...,\n",
            "       [ 79,  73,  67, ..., 196, 196, 206],\n",
            "       [ 76,  68,  65, ..., 192, 192, 201],\n",
            "       [ 68,  68,  68, ...,  68,  68,  68]], dtype=uint8), array([[105, 103, 103, ..., 255, 255, 255],\n",
            "       [228, 221, 223, ..., 255, 255, 255],\n",
            "       [218, 203, 222, ..., 255, 255, 255],\n",
            "       ...,\n",
            "       [ 80,  81,  83, ..., 255, 255, 255],\n",
            "       [ 80,  82,  83, ..., 255, 255, 255],\n",
            "       [ 68,  68,  68, ...,  68,  68,  68]], dtype=uint8), array([[130, 130, 130, ..., 255, 255, 255],\n",
            "       [255, 255, 255, ..., 255, 255, 255],\n",
            "       [255, 255, 255, ..., 255, 255, 255],\n",
            "       ...,\n",
            "       [255, 255, 255, ..., 251, 255, 255],\n",
            "       [255, 255, 255, ..., 255, 255, 255],\n",
            "       [ 68,  68,  68, ...,  68,  68,  68]], dtype=uint8), array([[130, 130, 130, ..., 255, 255, 255],\n",
            "       [255, 255, 255, ..., 255, 255, 255],\n",
            "       [255, 255, 255, ..., 255, 255, 255],\n",
            "       ...,\n",
            "       [255, 255, 255, ..., 255, 255, 255],\n",
            "       [255, 255, 255, ..., 255, 255, 255],\n",
            "       [ 68,  68,  68, ...,  68,  68,  68]], dtype=uint8), array([[130, 130, 130, ..., 255, 255, 255],\n",
            "       [255, 255, 255, ..., 255, 255, 255],\n",
            "       [255, 255, 255, ..., 255, 255, 255],\n",
            "       ...,\n",
            "       [255, 255, 255, ...,  68,  67,  65],\n",
            "       [249, 248, 245, ...,  64,  54,  51],\n",
            "       [ 68,  68,  68, ...,  68,  68,  68]], dtype=uint8), array([[111,  95,  90, ..., 225, 224, 234],\n",
            "       [237, 214, 208, ..., 244, 236, 239],\n",
            "       [255, 255, 255, ..., 255, 255, 255],\n",
            "       ...,\n",
            "       [187, 180, 183, ..., 234, 216, 224],\n",
            "       [190, 183, 188, ..., 220, 201, 209],\n",
            "       [ 68,  68,  68, ...,  68,  68,  68]], dtype=uint8), array([[130, 130, 130, ..., 255, 255, 255],\n",
            "       [255, 255, 255, ..., 255, 255, 255],\n",
            "       [255, 255, 255, ..., 255, 255, 255],\n",
            "       ...,\n",
            "       [255, 255, 255, ..., 235, 238, 255],\n",
            "       [255, 255, 255, ..., 234, 243, 255],\n",
            "       [ 68,  68,  68, ...,  68,  68,  68]], dtype=uint8), array([[130, 130, 130, ..., 255, 255, 255],\n",
            "       [255, 255, 255, ..., 255, 255, 255],\n",
            "       [255, 255, 255, ..., 255, 255, 255],\n",
            "       ...,\n",
            "       [255, 255, 255, ..., 245, 255, 255],\n",
            "       [255, 255, 255, ..., 239, 242, 255],\n",
            "       [ 68,  68,  68, ...,  68,  68,  68]], dtype=uint8), array([[130, 130, 130, ..., 255, 255, 255],\n",
            "       [255, 255, 255, ..., 255, 255, 255],\n",
            "       [255, 255, 255, ..., 255, 255, 255],\n",
            "       ...,\n",
            "       [255, 255, 255, ..., 255, 255, 255],\n",
            "       [255, 255, 255, ..., 255, 255, 255],\n",
            "       [ 68,  68,  68, ...,  68,  68,  68]], dtype=uint8), array([[130, 130, 130, ..., 255, 255, 250],\n",
            "       [255, 255, 255, ..., 255, 255, 249],\n",
            "       [255, 255, 255, ..., 255, 243, 235],\n",
            "       ...,\n",
            "       [255, 255, 255, ...,  60,  60,  61],\n",
            "       [255, 255, 255, ...,  59,  57,  60],\n",
            "       [ 68,  68,  68, ...,  68,  68,  68]], dtype=uint8), array([[130, 130, 130, ..., 255, 255, 255],\n",
            "       [255, 255, 255, ..., 255, 255, 255],\n",
            "       [255, 255, 255, ..., 255, 255, 255],\n",
            "       ...,\n",
            "       [255, 255, 255, ..., 255, 237, 229],\n",
            "       [255, 255, 255, ..., 255, 230, 215],\n",
            "       [ 68,  68,  68, ...,  68,  68,  68]], dtype=uint8), array([[130, 130, 130, ..., 255, 255, 255],\n",
            "       [255, 255, 255, ..., 255, 255, 255],\n",
            "       [255, 255, 255, ..., 255, 255, 255],\n",
            "       ...,\n",
            "       [255, 255, 255, ..., 218, 214, 237],\n",
            "       [255, 255, 255, ..., 214, 215, 253],\n",
            "       [ 68,  68,  68, ...,  68,  68,  68]], dtype=uint8), array([[130, 130, 130, ..., 255, 255, 255],\n",
            "       [255, 255, 255, ..., 255, 255, 255],\n",
            "       [255, 255, 255, ..., 255, 255, 255],\n",
            "       ...,\n",
            "       [255, 255, 255, ..., 255, 239, 238],\n",
            "       [255, 255, 255, ..., 255, 234, 238],\n",
            "       [ 68,  68,  68, ...,  68,  68,  68]], dtype=uint8), array([[114, 119, 124, ..., 255, 238, 244],\n",
            "       [251, 255, 255, ..., 255, 246, 255],\n",
            "       [255, 255, 255, ..., 255, 255, 255],\n",
            "       ...,\n",
            "       [241, 255, 255, ..., 178, 165, 171],\n",
            "       [245, 255, 255, ..., 183, 164, 165],\n",
            "       [ 68,  68,  68, ...,  68,  68,  68]], dtype=uint8), array([[130, 130, 130, ..., 255, 255, 255],\n",
            "       [255, 255, 255, ..., 255, 255, 255],\n",
            "       [255, 255, 255, ..., 255, 255, 255],\n",
            "       ...,\n",
            "       [255, 255, 255, ..., 255, 255, 255],\n",
            "       [255, 255, 255, ..., 255, 255, 255],\n",
            "       [ 68,  68,  68, ...,  68,  68,  68]], dtype=uint8), array([[112, 118, 123, ..., 251, 232, 242],\n",
            "       [252, 255, 255, ..., 253, 244, 255],\n",
            "       [255, 255, 255, ..., 255, 255, 255],\n",
            "       ...,\n",
            "       [242, 255, 255, ..., 167, 156, 160],\n",
            "       [245, 255, 255, ..., 186, 168, 159],\n",
            "       [ 68,  68,  68, ...,  68,  68,  68]], dtype=uint8), array([[119, 129, 130, ..., 255, 255, 255],\n",
            "       [253, 255, 255, ..., 255, 255, 255],\n",
            "       [255, 255, 255, ..., 255, 255, 255],\n",
            "       ...,\n",
            "       [255, 255, 255, ...,  93,  89,  94],\n",
            "       [255, 255, 255, ..., 102,  98, 103],\n",
            "       [ 68,  68,  68, ...,  68,  68,  68]], dtype=uint8), array([[130, 130, 130, ..., 255, 255, 255],\n",
            "       [255, 255, 255, ..., 255, 255, 255],\n",
            "       [255, 255, 255, ..., 255, 255, 255],\n",
            "       ...,\n",
            "       [255, 255, 255, ..., 255, 255, 255],\n",
            "       [255, 255, 255, ..., 255, 255, 255],\n",
            "       [ 68,  68,  68, ...,  68,  68,  68]], dtype=uint8), array([[130, 130, 130, ..., 255, 255, 255],\n",
            "       [255, 255, 255, ..., 255, 255, 255],\n",
            "       [255, 255, 255, ..., 255, 255, 255],\n",
            "       ...,\n",
            "       [255, 255, 255, ..., 255, 248, 238],\n",
            "       [255, 255, 255, ..., 255, 242, 227],\n",
            "       [ 68,  68,  68, ...,  68,  68,  68]], dtype=uint8), array([[130, 130, 130, ..., 255, 255, 255],\n",
            "       [255, 255, 255, ..., 255, 255, 255],\n",
            "       [255, 255, 255, ..., 255, 255, 255],\n",
            "       ...,\n",
            "       [255, 255, 255, ..., 255, 255, 255],\n",
            "       [255, 255, 255, ..., 255, 255, 255],\n",
            "       [ 68,  68,  68, ...,  68,  68,  68]], dtype=uint8), array([[130, 130, 130, ..., 255, 255, 255],\n",
            "       [255, 255, 255, ..., 255, 255, 255],\n",
            "       [255, 255, 255, ..., 255, 255, 255],\n",
            "       ...,\n",
            "       [255, 255, 255, ..., 249, 224, 217],\n",
            "       [255, 255, 255, ..., 253, 221, 206],\n",
            "       [ 68,  68,  68, ...,  68,  68,  68]], dtype=uint8), array([[130, 130, 130, ..., 255, 255, 255],\n",
            "       [255, 255, 255, ..., 255, 255, 255],\n",
            "       [255, 255, 255, ..., 255, 255, 255],\n",
            "       ...,\n",
            "       [255, 255, 255, ..., 253, 255, 255],\n",
            "       [255, 255, 255, ..., 255, 255, 255],\n",
            "       [ 68,  68,  68, ...,  68,  68,  68]], dtype=uint8), array([[130, 130, 130, ..., 255, 255, 255],\n",
            "       [255, 255, 255, ..., 255, 255, 255],\n",
            "       [255, 255, 255, ..., 255, 255, 255],\n",
            "       ...,\n",
            "       [255, 255, 255, ..., 255, 255, 255],\n",
            "       [255, 255, 255, ..., 255, 255, 255],\n",
            "       [ 68,  68,  68, ...,  68,  68,  68]], dtype=uint8), array([[115, 122, 126, ..., 255, 236, 245],\n",
            "       [255, 255, 255, ..., 255, 251, 255],\n",
            "       [255, 255, 255, ..., 255, 255, 255],\n",
            "       ...,\n",
            "       [255, 255, 255, ..., 163, 151, 157],\n",
            "       [255, 255, 255, ..., 168, 151, 151],\n",
            "       [ 68,  68,  68, ...,  68,  68,  68]], dtype=uint8), array([[130, 130, 130, ..., 255, 255, 255],\n",
            "       [255, 255, 255, ..., 255, 255, 255],\n",
            "       [255, 255, 255, ..., 255, 255, 255],\n",
            "       ...,\n",
            "       [255, 255, 255, ..., 230, 251, 248],\n",
            "       [255, 255, 255, ..., 221, 225, 243],\n",
            "       [ 68,  68,  68, ...,  68,  68,  68]], dtype=uint8), array([[130, 130, 130, ..., 255, 255, 255],\n",
            "       [255, 255, 255, ..., 255, 255, 255],\n",
            "       [255, 255, 255, ..., 255, 255, 255],\n",
            "       ...,\n",
            "       [255, 255, 255, ...,  25,  24,  25],\n",
            "       [253, 255, 255, ...,  26,  25,  26],\n",
            "       [ 68,  68,  68, ...,  68,  68,  68]], dtype=uint8), array([[130, 130, 130, ..., 255, 255, 255],\n",
            "       [255, 255, 255, ..., 255, 255, 255],\n",
            "       [255, 255, 255, ..., 255, 255, 255],\n",
            "       ...,\n",
            "       [255, 255, 255, ..., 243, 255, 255],\n",
            "       [255, 255, 255, ..., 237, 241, 255],\n",
            "       [ 68,  68,  68, ...,  68,  68,  68]], dtype=uint8), array([[130, 130, 130, ..., 255, 255, 255],\n",
            "       [255, 255, 255, ..., 255, 255, 255],\n",
            "       [255, 255, 255, ..., 255, 255, 255],\n",
            "       ...,\n",
            "       [255, 255, 255, ..., 231, 252, 251],\n",
            "       [255, 255, 255, ..., 223, 224, 245],\n",
            "       [ 68,  68,  68, ...,  68,  68,  68]], dtype=uint8), array([[110,  96,  91, ..., 224, 224, 236],\n",
            "       [239, 218, 211, ..., 244, 236, 239],\n",
            "       [255, 255, 255, ..., 255, 255, 255],\n",
            "       ...,\n",
            "       [199, 192, 195, ..., 227, 210, 221],\n",
            "       [204, 199, 202, ..., 228, 203, 202],\n",
            "       [ 68,  68,  68, ...,  68,  68,  68]], dtype=uint8), array([[130, 130, 130, ..., 255, 255, 255],\n",
            "       [255, 255, 255, ..., 255, 255, 255],\n",
            "       [255, 255, 255, ..., 255, 255, 255],\n",
            "       ...,\n",
            "       [255, 255, 255, ..., 248, 250, 255],\n",
            "       [255, 255, 255, ..., 245, 252, 255],\n",
            "       [ 68,  68,  68, ...,  68,  68,  68]], dtype=uint8), array([[114, 121, 124, ..., 255, 238, 245],\n",
            "       [255, 255, 255, ..., 255, 250, 255],\n",
            "       [255, 255, 255, ..., 255, 255, 255],\n",
            "       ...,\n",
            "       [250, 255, 255, ..., 176, 163, 171],\n",
            "       [250, 255, 255, ..., 185, 164, 165],\n",
            "       [ 68,  68,  68, ...,  68,  68,  68]], dtype=uint8), array([[130, 130, 130, ..., 255, 255, 255],\n",
            "       [255, 255, 255, ..., 255, 255, 255],\n",
            "       [255, 255, 255, ..., 255, 255, 255],\n",
            "       ...,\n",
            "       [255, 255, 255, ..., 129, 100,  79],\n",
            "       [248, 246, 245, ..., 128, 101,  73],\n",
            "       [ 68,  68,  68, ...,  68,  68,  68]], dtype=uint8), array([[130, 130, 130, ..., 228, 225, 255],\n",
            "       [255, 255, 255, ..., 227, 229, 255],\n",
            "       [255, 255, 255, ..., 245, 235, 255],\n",
            "       ...,\n",
            "       [255, 255, 255, ..., 248, 229, 230],\n",
            "       [255, 255, 255, ..., 244, 228, 236],\n",
            "       [ 68,  68,  68, ...,  68,  68,  68]], dtype=uint8), array([[130, 130, 130, ..., 255, 255, 255],\n",
            "       [255, 255, 255, ..., 255, 255, 255],\n",
            "       [255, 255, 255, ..., 255, 255, 255],\n",
            "       ...,\n",
            "       [179, 180, 181, ..., 114, 100,  96],\n",
            "       [165, 165, 166, ..., 102,  89,  78],\n",
            "       [ 68,  68,  68, ...,  68,  68,  68]], dtype=uint8), array([[130, 130, 130, ..., 255, 255, 255],\n",
            "       [255, 255, 255, ..., 255, 255, 255],\n",
            "       [255, 255, 255, ..., 255, 255, 255],\n",
            "       ...,\n",
            "       [255, 255, 255, ...,  58,  55,  57],\n",
            "       [250, 249, 246, ...,  71,  51,  47],\n",
            "       [ 68,  68,  68, ...,  68,  68,  68]], dtype=uint8)]\n",
            "\n",
            "Qtde = 135\n",
            "\n",
            "Primeiro = [[130 129 121 ... 190 182 185]\n",
            " [255 255 255 ... 183 183 192]\n",
            " [255 255 255 ... 175 185 209]\n",
            " ...\n",
            " [161 164 161 ...  47  48  50]\n",
            " [163 164 161 ...  50  44  43]\n",
            " [ 68  68  68 ...  68  68  68]]\n",
            "\n",
            "Ultimo = [[130 130 130 ... 255 255 255]\n",
            " [255 255 255 ... 255 255 255]\n",
            " [255 255 255 ... 255 255 255]\n",
            " ...\n",
            " [255 255 255 ...  58  55  57]\n",
            " [250 249 246 ...  71  51  47]\n",
            " [ 68  68  68 ...  68  68  68]]\n"
          ]
        }
      ]
    },
    {
      "cell_type": "code",
      "source": [
        "faces[0].shape"
      ],
      "metadata": {
        "colab": {
          "base_uri": "https://localhost:8080/"
        },
        "id": "EBIZDLRkxLzq",
        "outputId": "9487c88f-875e-47d8-f934-0aebafc954b9"
      },
      "execution_count": null,
      "outputs": [
        {
          "output_type": "execute_result",
          "data": {
            "text/plain": [
              "(243, 320)"
            ]
          },
          "metadata": {},
          "execution_count": 10
        }
      ]
    },
    {
      "cell_type": "code",
      "source": [
        "#Aqui gerei um histográfico que ficou bem grande, devido ao número elevado de informações que existem em somente uma array\n",
        "#no caso essa é a primeira.(0)\n",
        "plt.figure(figsize = (15,15))\n",
        "plt.hist(faces[0])\n",
        "plt.xlabel('faces');\n"
      ],
      "metadata": {
        "colab": {
          "base_uri": "https://localhost:8080/",
          "height": 633
        },
        "id": "7Qs16RgHwsm8",
        "outputId": "c5eedb71-0abb-430f-878e-5a4e117cc9c3"
      },
      "execution_count": null,
      "outputs": [
        {
          "output_type": "display_data",
          "data": {
            "text/plain": [
              "<Figure size 1080x1080 with 1 Axes>"
            ],
            "image/png": "[encoded data removed]"
          },
          "metadata": {
            "needs_background": "light"
          }
        }
      ]
    },
    {
      "cell_type": "markdown",
      "source": [
        "##treinamento do classificador"
      ],
      "metadata": {
        "id": "ABqoZgAzx1x8"
      }
    },
    {
      "cell_type": "code",
      "source": [
        "classificador = cv2.face.LBPHFaceRecognizer_create(\tradius = 10,\n",
        "neighbors = 12,\n",
        "grid_x = 12,\n",
        "grid_y = 12) #Comando usado para fazer reconhecimento facial a partir de padrões binários locais.\n",
        "classificador.train(faces, ids)                      #Vamos treinar faces e ids\n",
        "classificador.write('Classificador_yaleface.yml')    #Estamos gerando o arquivo ''Classificador_yaleface.yml''"
      ],
      "metadata": {
        "id": "0GcIjgkEx0yK"
      },
      "execution_count": null,
      "outputs": []
    },
    {
      "cell_type": "code",
      "source": [
        "classificador_face = '/content/Classificador_yaleface.yml'   #classificador_yale recebe o diretório de classificador_yaleface.yml\n",
        "\n",
        "imagem_teste = '/content/yalefaces/test/subject13.sleepy.gif'#imagem_teste recebe subject13\n",
        "imagem_cinza = Image.open(imagem_teste).convert('L')         #abrimos a imagem_teste e a convertemos para uma escala de cinza.  \n",
        "imagem_np = np.array(imagem_cinza, 'uint8')                  #transformamos a imagem_cinza em uma matriz do tipo uint8(uma array)\n",
        "id_imagem = int(os.path.split(imagem_teste)[1].split('.')[0].replace('subject', ''))  #separamos o nome do numero e transformamos para inteiro\n",
        "                                                                                      # por exemplo subject13, ficaria somente 13 ja convertido para inteiro."
      ],
      "metadata": {
        "id": "nR89Y_EayfH-"
      },
      "execution_count": null,
      "outputs": []
    },
    {
      "cell_type": "code",
      "source": [
        "#Aqui estaremos fazendo uma previsão, ou seja, um teste com a imagem, para ser ver a o programa reconhece a imagem.\n",
        "previsao = classificador.predict(imagem_np)\n",
        "\n",
        "previsao"
      ],
      "metadata": {
        "colab": {
          "base_uri": "https://localhost:8080/"
        },
        "id": "tfHDfhV3z8ya",
        "outputId": "bcd9449f-4f47-4160-9e3e-b72a4d2625c2"
      },
      "execution_count": null,
      "outputs": [
        {
          "output_type": "execute_result",
          "data": {
            "text/plain": [
              "(13, 78.20304163721791)"
            ]
          },
          "metadata": {},
          "execution_count": 14
        }
      ]
    },
    {
      "cell_type": "code",
      "source": [
        "cv2.putText(imagem_np, 'pred:' + str(previsao[0]), (10,30), cv2.FONT_HERSHEY_COMPLEX_SMALL, 1, (0,0,255)) #definicão da legende, local da legenda, fonte da legenda e a cor.\n",
        "cv2.putText(imagem_np, 'Exp:' + str(id_imagem), (10,50), cv2.FONT_HERSHEY_COMPLEX_SMALL, 1, (0,0,255))    #definicão da legende, local da legenda, fonte da legenda e a cor"
      ],
      "metadata": {
        "colab": {
          "base_uri": "https://localhost:8080/"
        },
        "id": "z39C6qwG0H7g",
        "outputId": "3591fee3-10bf-48ac-f8c6-07311885eaf2"
      },
      "execution_count": null,
      "outputs": [
        {
          "output_type": "execute_result",
          "data": {
            "text/plain": [
              "array([[130, 130, 130, ..., 255, 255, 255],\n",
              "       [255, 255, 255, ..., 255, 255, 255],\n",
              "       [255, 255, 255, ..., 255, 255, 255],\n",
              "       ...,\n",
              "       [255, 255, 255, ..., 196, 188, 192],\n",
              "       [255, 255, 255, ..., 214, 208, 208],\n",
              "       [ 68,  68,  68, ...,  68,  68,  68]], dtype=uint8)"
            ]
          },
          "metadata": {},
          "execution_count": 15
        }
      ]
    },
    {
      "cell_type": "code",
      "source": [
        "cv2_imshow(imagem_np) #imagem, com a previsão e a experiencia. que no caso está certo, por que os resultados batem."
      ],
      "metadata": {
        "colab": {
          "base_uri": "https://localhost:8080/",
          "height": 260
        },
        "id": "_y6_qmVy0RG0",
        "outputId": "677d4e0a-ffeb-4289-9abf-c60d14fc2226"
      },
      "execution_count": null,
      "outputs": [
        {
          "output_type": "display_data",
          "data": {
            "text/plain": [
              "<PIL.Image.Image image mode=L size=320x243 at 0x7FD5BAEADD10>"
            ],
            "image/png": "[encoded data removed]"
          },
          "metadata": {}
        }
      ]
    },
    {
      "cell_type": "markdown",
      "source": [
        "##Avaliação do classificador"
      ],
      "metadata": {
        "id": "C5HnVQjs2FM7"
      }
    },
    {
      "cell_type": "code",
      "source": [
        "paths = [os.path.join('/content/yalefaces/test', f) for f in os.listdir('/content/yalefaces/test')]\n",
        "#usando o os abrimos o local onde esta as imagens de teste.\n",
        "#usando o listdir vizualizaremos o que há dentro da pasta\n",
        "previsoes = [] #Criamos uma lista chaamada de previsoes, para armazenar os resultados que seram gerados a apartida do predict              \n",
        "esperados = [] #Na lista armazenaremos valores que estão certos.\n",
        "for path in paths:#faremos um for para automatizar as conversões\n",
        "  #print(path)\n",
        "  imagem = Image.open(path).convert('L') #para imagem cinza.\n",
        "  imagem_np = np.array(imagem, 'uint8')  #para 7uma matriz do tipo uint8\n",
        "  previsao, _ = classificador.predict(imagem_np) #fazendo o teste dessas imagens.\n",
        "  esperado = int(os.path.split(path)[1].split('.')[0].replace('subject', ''))\n",
        "  \n",
        "  previsoes.append(previsao) #adicionando cada informação a cada lista\n",
        "  esperados.append(esperado) "
      ],
      "metadata": {
        "id": "_X6Hpi3I2IkB"
      },
      "execution_count": null,
      "outputs": []
    },
    {
      "cell_type": "code",
      "source": [
        "np.array(previsoes)"
      ],
      "metadata": {
        "colab": {
          "base_uri": "https://localhost:8080/"
        },
        "id": "F1lW3QeT9XrC",
        "outputId": "5ecf923e-6ca8-4b11-8e52-8f9880e08254"
      },
      "execution_count": null,
      "outputs": [
        {
          "output_type": "execute_result",
          "data": {
            "text/plain": [
              "array([ 5, 12, 11,  4,  8,  9,  4,  4,  2, 14,  4, 14, 14, 15, 13,  5, 10,\n",
              "        1,  3,  1,  7,  3,  7, 11, 13,  9, 12,  7,  4,  6])"
            ]
          },
          "metadata": {},
          "execution_count": 18
        }
      ]
    },
    {
      "cell_type": "code",
      "source": [
        "np.array(esperados)"
      ],
      "metadata": {
        "colab": {
          "base_uri": "https://localhost:8080/"
        },
        "id": "G69iV2DI9Zdf",
        "outputId": "111f1696-d13a-40c6-aadf-1926ec2df5e7"
      },
      "execution_count": null,
      "outputs": [
        {
          "output_type": "execute_result",
          "data": {
            "text/plain": [
              "array([ 5, 12, 11,  2,  8,  7,  8, 10,  2, 14,  4,  6, 14, 15, 13,  5, 10,\n",
              "        1,  3,  1,  9,  3,  7, 11, 13,  9, 12, 15,  4,  6])"
            ]
          },
          "metadata": {},
          "execution_count": 19
        }
      ]
    },
    {
      "cell_type": "code",
      "source": [
        "#importe de accuracy_score para sabermos qua irá ser nossa taxa de acerto.\n",
        "\n",
        "from sklearn.metrics import accuracy_score\n",
        "\n",
        "accuracy_score(esperados, previsoes)"
      ],
      "metadata": {
        "colab": {
          "base_uri": "https://localhost:8080/"
        },
        "id": "UUdoNIUjB2em",
        "outputId": "2c9c4ade-5138-4359-e754-abf08b758a3f"
      },
      "execution_count": null,
      "outputs": [
        {
          "output_type": "execute_result",
          "data": {
            "text/plain": [
              "0.7666666666666667"
            ]
          },
          "metadata": {},
          "execution_count": 20
        }
      ]
    },
    {
      "cell_type": "code",
      "source": [
        "#geração da matriz de confusão.\n",
        "from sklearn.metrics import confusion_matrix\n",
        "cm = confusion_matrix(esperados, previsoes)"
      ],
      "metadata": {
        "id": "l-ZMbGaOCoAu"
      },
      "execution_count": null,
      "outputs": []
    },
    {
      "cell_type": "code",
      "source": [
        "import seaborn as sns \n",
        "\n",
        "sns.heatmap(cm, annot = True);"
      ],
      "metadata": {
        "colab": {
          "base_uri": "https://localhost:8080/",
          "height": 269
        },
        "id": "dmY7AphLC0qp",
        "outputId": "5f246ba9-ced9-4125-e892-809c814a2bd7"
      },
      "execution_count": null,
      "outputs": [
        {
          "output_type": "display_data",
          "data": {
            "text/plain": [
              "<Figure size 432x288 with 2 Axes>"
            ],
            "image/png": "[encoded data removed]"
          },
          "metadata": {
            "needs_background": "light"
          }
        }
      ]
    }
  ]
}