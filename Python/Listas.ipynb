{
 "cells": [
  {
   "cell_type": "code",
   "execution_count": 1,
   "id": "599970aa",
   "metadata": {
    "scrolled": false
   },
   "outputs": [
    {
     "name": "stdout",
     "output_type": "stream",
     "text": [
      "[[1, 2, 3], [4, 5, 6], [7, 8, 9]]\n"
     ]
    }
   ],
   "source": [
    "lista1 = [1, 2, 3]\n",
    "lista2 = [4, 5, 6]\n",
    "lista3 = [7, 8, 9]\n",
    "\n",
    "listas = [lista1, lista2, lista3]\n",
    "\n",
    "print(listas)"
   ]
  },
  {
   "cell_type": "code",
   "execution_count": 16,
   "id": "ab55b590",
   "metadata": {
    "scrolled": true
   },
   "outputs": [
    {
     "name": "stdout",
     "output_type": "stream",
     "text": [
      "Escolha uma fruta: awda\n",
      "Fruta não encontrada! Tente em outra loja.\n"
     ]
    }
   ],
   "source": [
    "frutas = [\"maçã\", \"peira\", \"abacaxi\", \"limão\", \"melancia\", \"melão\", \"uva\"]\n",
    "preço_uni = [0.70, 0.90, 1.00, 5.20, 0.30, 0.60, 0.80]\n",
    "fruta = input(str(\"Escolha uma fruta: \"))\n",
    "\n",
    "if fruta in frutas:\n",
    "    f = frutas.index(fruta)\n",
    "    p = preço_uni[f]\n",
    "    print(f\"Fruta = {fruta}\\nPreço = R${p}\")\n",
    "else:\n",
    "    print(f\"Fruta não encontrada! Tente em outra loja.\")\n"
   ]
  },
  {
   "cell_type": "code",
   "execution_count": 28,
   "id": "f8bb8560",
   "metadata": {
    "scrolled": true
   },
   "outputs": [
    {
     "name": "stdout",
     "output_type": "stream",
     "text": [
      "Adicione um produto: 123\n",
      "['tv', 'celular', 'videogame', '123']\n"
     ]
    }
   ],
   "source": [
    "produtos = [\"tv\", \"celular\", \"videogame\"]\n",
    "add = input(str(\"Adicione um produto: \"))\n",
    "produtos.append(add)\n",
    "\n",
    "print(produtO)"
   ]
  },
  {
   "cell_type": "code",
   "execution_count": 40,
   "id": "844dcf7b",
   "metadata": {},
   "outputs": [
    {
     "name": "stdout",
     "output_type": "stream",
     "text": [
      "['tv', 'celular', 'videogame']\n",
      "['celular', 'videogame']\n",
      "tv\n"
     ]
    }
   ],
   "source": [
    "produtos = [\"tv\", \"celular\", \"videogame\"]\n",
    "print(produtos)\n",
    "var = produtos.pop(0)\n",
    "print(produtos)\n",
    "print(var)"
   ]
  },
  {
   "cell_type": "code",
   "execution_count": 41,
   "id": "b17e1474",
   "metadata": {},
   "outputs": [
    {
     "name": "stdout",
     "output_type": "stream",
     "text": [
      "Digite algo para remover da lista de produtos: tv\n",
      "Você removeu tv da lista\n",
      "Nova lista = ['celular', 'videogame']\n"
     ]
    }
   ],
   "source": [
    "produtos = [\"tv\", \"celular\", \"videogame\"]\n",
    "item = input(str(\"Digite algo para remover da lista de produtos: \"))\n",
    "\n",
    "try:\n",
    "    produtos.remove(item)\n",
    "    print(f\"Você removeu {item} da lista\\nNova lista = {produtos}\")\n",
    "except:\n",
    "    print(\"Esse produto não existe!\")"
   ]
  },
  {
   "cell_type": "code",
   "execution_count": 42,
   "id": "12846a8b",
   "metadata": {},
   "outputs": [
    {
     "name": "stdout",
     "output_type": "stream",
     "text": [
      "[1, 2, 3, 4, 5, 6, 7, 8, 9, 10, 11, 12]\n",
      "12\n",
      "12\n",
      "1\n"
     ]
    }
   ],
   "source": [
    "meses = [\"janeiro\", \"fevereiro\", \"março\", \"abril\", \"maio\", \"junho\" , \"julho\", \"agosto\", \"setembro\", \"outubro\", \"novembro\", \"dezembro\"]\n",
    "lista1 = [1, 2, 3, 4, 5, 6,]\n",
    "lista2 = [7, 8, 9, 10, 11, 12]\n",
    "\n",
    "lista1.extend(lista2)\n",
    "\n",
    "print(lista1)\n",
    "\n",
    "print(len(lista1))\n",
    "print(max(lista1))\n",
    "print(min(lista1))"
   ]
  },
  {
   "cell_type": "code",
   "execution_count": 46,
   "id": "b61c0690",
   "metadata": {},
   "outputs": [
    {
     "name": "stdout",
     "output_type": "stream",
     "text": [
      "[1, 2, 3, 4, 5, 6, 7, 8, 9, 10, 11, 12]\n",
      "12\n",
      "12\n",
      "1\n"
     ]
    }
   ],
   "source": [
    "meses = [\"janeiro\", \"fevereiro\", \"março\", \"abril\", \"maio\", \"junho\" , \"julho\", \"agosto\", \"setembro\", \"outubro\", \"novembro\", \"dezembro\"]\n",
    "lista1 = [1, 2, 3, 4, 5, 6,]\n",
    "lista2 = [7, 8, 9, 10, 11, 12]\n",
    "\n",
    "nova_lista = lista1 + lista2\n",
    "\n",
    "print(nova_lista)\n",
    "      \n",
    "print(len(nova_lista))\n",
    "print(max(nova_lista))\n",
    "print(min(nova_lista))"
   ]
  },
  {
   "cell_type": "code",
   "execution_count": null,
   "id": "d60b0d9e",
   "metadata": {},
   "outputs": [],
   "source": [
    "produtos = ['cafeteira','notebook','livro','monitor','celular','tv']\n",
    "\n",
    "qt_vendas_e_preço = [\n",
    "    [5000, 10],\n",
    "    [40000, 50],\n",
    "    [10000, 80],\n",
    "    [75000, 20],\n",
    "    [100000, 150],\n",
    "    [500000, 90]\n",
    "]\n",
    "\n",
    "if 'livro' in produtos:\n",
    "    i_livro = produtos.index('livro')\n",
    "    lista = qt_vendas_e_preço[i_livro][0] * qt_vendas_e_preço[i_livro][1]\n",
    "    qt_vendas_e_preço[i_livro][1] = qt_vendas_e_preço[i_livro][1] * 1.1\n",
    "    lista_nova = qt_vendas_e_preço[i_livro][0] * qt_vendas_e_preço[i_livro][1]\n",
    "    print(\"O valor do imposto a ser pago é de {}\".format(lista_nova - lista))\n",
    "  "
   ]
  },
  {
   "cell_type": "code",
   "execution_count": null,
   "id": "b66b615c",
   "metadata": {},
   "outputs": [],
   "source": [
    "tupla = ('thiago', 12)\n",
    "nome = tupla[0]\n",
    "idade = tupla[1]\n",
    "\n",
    "print(nome, idade)"
   ]
  },
  {
   "cell_type": "code",
   "execution_count": null,
   "id": "b6775a1f",
   "metadata": {},
   "outputs": [],
   "source": [
    "vendas = [1000, 2000, 300, 300, 150]\n",
    "funcionarios = ['João', 'Lira', 'Ana', 'Maria', 'Paula']\n",
    "\n",
    "for i, venda in enumerate(vendas):\n",
    "        print('{} vendeu {} unidades'.format(funcionarios[i], venda))"
   ]
  },
  {
   "cell_type": "code",
   "execution_count": null,
   "id": "644e2268",
   "metadata": {},
   "outputs": [],
   "source": [
    "nome = ('thiago', 'amanda', 'lucas', 'fernando')\n",
    "idade = (17, 22, 18, 17)\n",
    "\n",
    "for i, pessoa in enumerate(idade):\n",
    "    if pessoa >= 18:\n",
    "        print(f\"{nome[i]} é um adulto\")\n",
    "    elif pessoa < 18:\n",
    "        print(f\"{nome[i]} ainda é menor de idade.\")"
   ]
  },
  {
   "cell_type": "code",
   "execution_count": null,
   "id": "ee6fe16e",
   "metadata": {},
   "outputs": [],
   "source": [
    "dicionario_de_palavras = {}\n",
    "dicionario_de_palavras['nome'] = 'name'\n",
    "dicionario_de_palavras['maçã'] = 'apple'\n",
    "dicionario_de_palavras['celular'] = 'cellphone'\n",
    "\n",
    "print(dicionario_de_palavras)"
   ]
  },
  {
   "cell_type": "code",
   "execution_count": null,
   "id": "1c76f8f3",
   "metadata": {},
   "outputs": [],
   "source": [
    "vendas = [941, 852, 783, 714, 697, 686, 685, 670, 631, 453, 386, 371, 294, 269, 259, 218, 208, 163, 125, 102, 87, 47, 7]\n",
    "\n",
    "vendedores = ['Maria', 'José', 'Antônio', 'João', 'Francisco', 'Ana', 'Luiz', 'Paulo', 'Carlos', 'Manoel', 'Pedro', 'Francisca', 'Marcos', 'Raimundo', 'Sebastião', 'Antônia', 'Marcelo', 'Jorge', 'Márcia', 'Geraldo', 'Adriana', 'Sandra', 'Luis']\n",
    "meta = 50\n",
    "\n",
    "for venda in vendas:\n",
    "    d = vendas.index(venda)    \n",
    "    c = vendedores[d]\n",
    "    b = vendas[d]\n",
    "       \n",
    "    if venda >= meta:\n",
    "        print(f\"vendedor {c}\\nVendas {b}\")"
   ]
  },
  {
   "cell_type": "code",
   "execution_count": null,
   "id": "de4855b8",
   "metadata": {},
   "outputs": [],
   "source": [
    "vendas = [122, 300, 800, 1500, 1900, 2750, 400, 20 , 23, 70, 90, 80, 1100, 999, 880, 870, 50, 1111, 120, 300, 540, 800]\n",
    "meta = 1000\n",
    "for venda in vendas:\n",
    "    if venda >= meta:\n",
    "        print(venda)"
   ]
  },
  {
   "cell_type": "code",
   "execution_count": null,
   "id": "ace5bfb6",
   "metadata": {},
   "outputs": [],
   "source": [
    "vendedores = ['joão', 'lucas', 'thiago', 'maria', 'josé', 'jorge']\n",
    "vendas = [122, 300, 800, 1500, 16000, 89600]\n",
    "meta = 1000\n",
    "f = 0\n",
    "\n",
    "for venda in vendas:\n",
    "    if venda >= meta:\n",
    "        i = vendas.index(venda)\n",
    "        y = vendedores[i]\n",
    "        u = vendas[i]\n",
    "        f = f + 1\n",
    "        print(f\"Parabéns {y} você atingiu a meta com um total de R${u}\")\n",
    "print(f\"Total de funcioários que atingiram a meta = {f}\")\n",
    "        "
   ]
  },
  {
   "cell_type": "code",
   "execution_count": null,
   "id": "1ed9ede5",
   "metadata": {},
   "outputs": [],
   "source": [
    "lista = ['goiaba', 'abacaxi', 'maça', 'uva', 'peira', 'maracuja', 'limçao', 'cupuaçu']\n",
    "s = \"S\"\n",
    "n = \"N\"\n",
    "i = 0 \n",
    "for frutas in lista:\n",
    "    f = input(str(f\"O item {lista[i]} é uma fruta? S/N: \"))\n",
    "    if f == s:\n",
    "        print(\"OK! Confira o restante\")\n",
    "        i = i + 1\n",
    "    elif f == n:\n",
    "        print(\"OK! Confira o restante\")\n",
    "        i = i + 1\n",
    "    elif f != s or f != n:\n",
    "        break\n",
    "    "
   ]
  },
  {
   "cell_type": "code",
   "execution_count": null,
   "id": "bb9390d1",
   "metadata": {},
   "outputs": [],
   "source": [
    "precos_imoveis=[2.17,1.54,1.45,1.94,2.37,2.3,1.79,1.8,2.25,1.37]\n",
    "tamanho_imoveis=[207,148,130,203,257,228,160,194,232,147]\n",
    "\n",
    "fator = 0.1\n",
    "\n",
    "i = int((1 - fator) * len(precos_imoveis))\n",
    "\n",
    "\n",
    "precos_treino = precos_imoveis[:i]\n",
    "precos_teste = precos_imoveis[i:]\n",
    "tamanho_treino = tamanho_imoveis[:i]\n",
    "tamanho_teste = tamanho_imoveis[i:]\n",
    "\n",
    "\n",
    "print(f\"Preço treino = {precos_treino}\\nQuantidade ={len(precos_treino)}\")\n",
    "print(f\"Preço teste = {precos_teste}\\nQuantidade ={len(precos_teste)}\")\n",
    "print(f\"tamanho teste = {tamanho_treino}\\nQuantidade ={len(tamanho_treino)}\")\n",
    "print(f\"tamanho teste = {tamanho_teste}\\nQuantidade ={len(tamanho_teste)}\")"
   ]
  }
 ],
 "metadata": {
  "kernelspec": {
   "display_name": "Python 3.10.5 64-bit",
   "language": "python",
   "name": "python3"
  },
  "language_info": {
   "codemirror_mode": {
    "name": "ipython",
    "version": 3
   },
   "file_extension": ".py",
   "mimetype": "text/x-python",
   "name": "python",
   "nbconvert_exporter": "python",
   "pygments_lexer": "ipython3",
   "version": "3.10.5"
  },
  "vscode": {
   "interpreter": {
    "hash": "aee8b7b246df8f9039afb4144a1f6fd8d2ca17a180786b69acc140d282b71a49"
   }
  }
 },
 "nbformat": 4,
 "nbformat_minor": 5
}
