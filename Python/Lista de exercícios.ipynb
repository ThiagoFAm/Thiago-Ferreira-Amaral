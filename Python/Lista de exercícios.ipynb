{
 "cells": [
  {
   "cell_type": "code",
   "execution_count": 3,
   "id": "0b6ea9c6",
   "metadata": {},
   "outputs": [
    {
     "name": "stdout",
     "output_type": "stream",
     "text": [
      "610\n",
      "0.5333333333333333\n",
      "575\n",
      "107\n",
      "2505426032558.259\n"
     ]
    }
   ],
   "source": [
    "#Exercício 5.1: Converta as seguintes expressões matemáticas para que possam ser calculadas usando o interpretador Python.\n",
    "\n",
    "print(10 + 20 * 30)\n",
    "print(4 ** 2 / 30)\n",
    "print((94 + 2) * 6 - 1)\n",
    "print(((10 + 8) * (10 - 4))- 1)\n",
    "print(((1500 +(100 - 9)/ 10) * 9)** 3)"
   ]
  },
  {
   "cell_type": "code",
   "execution_count": 4,
   "id": "c4701a05",
   "metadata": {},
   "outputs": [
    {
     "name": "stdout",
     "output_type": "stream",
     "text": [
      "81.0\n"
     ]
    }
   ],
   "source": [
    "#Exercício 5.2: Digite a seguinte expressão no interpretador:\n",
    "# \"%\" = resto da divisão\n",
    "\n",
    "print(10 % 3 * 10 ** 2 + 1 - 10 * 4 / 2)"
   ]
  },
  {
   "cell_type": "code",
   "execution_count": 4,
   "id": "a45340b8",
   "metadata": {},
   "outputs": [
    {
     "name": "stdout",
     "output_type": "stream",
     "text": [
      "Digite seu nome: Tghiago\n",
      "É um prazer te conhecer Tghiago!\n"
     ]
    }
   ],
   "source": [
    "#Exercício 5.3: Faça um programa que exiba seu nome na tela.\n",
    "\n",
    "nome = str(input(\"Digite seu nome: \"))\n",
    "\n",
    "print(f\"É um prazer te conhecer {nome}!\")"
   ]
  },
  {
   "cell_type": "code",
   "execution_count": 6,
   "id": "fa3c2a85",
   "metadata": {},
   "outputs": [
    {
     "name": "stdout",
     "output_type": "stream",
     "text": [
      "90\n"
     ]
    }
   ],
   "source": [
    "#xercício 5.4: Escreva um programa que exiba o resultado de 2a × 3b, onde a vale a e b vale 5 \n",
    "a = int(3)\n",
    "b = int(5)\n",
    "s = int(2 * a * 3 * b)\n",
    "\n",
    "print(s)\n",
    "\n"
   ]
  },
  {
   "cell_type": "code",
   "execution_count": 7,
   "id": "33ff26fc",
   "metadata": {},
   "outputs": [
    {
     "name": "stdout",
     "output_type": "stream",
     "text": [
      "Digite o primeiro número: 4\n",
      "Digite o segundo número: 4\n",
      "Digite o terceiro número: 4\n",
      "Resultado = 12\n"
     ]
    }
   ],
   "source": [
    "#Exercício 5.5: Modifique o primeiro programa abaixo, de forma a calcular a soma de três variáveis.\n",
    "a = int(input(\"Digite o primeiro número: \"))\n",
    "b = int(input(\"Digite o segundo número: \"))\n",
    "c = int(input(\"Digite o terceiro número: \"))\n",
    "s = int(a + b + c)\n",
    "\n",
    "print(f\"Resultado = {s}\")"
   ]
  },
  {
   "cell_type": "code",
   "execution_count": 9,
   "id": "6862665f",
   "metadata": {},
   "outputs": [
    {
     "name": "stdout",
     "output_type": "stream",
     "text": [
      "862.5\n"
     ]
    }
   ],
   "source": [
    "#Exercício 5.6: Modifique o programa abaixo, de forma que ele calcule um aumento de 15% para um salário de R$ 750.\n",
    "\n",
    "salario = int(750)\n",
    "aumento = int(15)\n",
    "\n",
    "print(salario + (salário * 15)/100)"
   ]
  },
  {
   "cell_type": "code",
   "execution_count": 11,
   "id": "3878ef5e",
   "metadata": {},
   "outputs": [
    {
     "name": "stdout",
     "output_type": "stream",
     "text": [
      "Digite um valor em metros:9\n",
      "O valor de metros em centímetros é igual à 900cm\n"
     ]
    }
   ],
   "source": [
    "#Exercício 5.7 : Faça um programa em linguagem Python que converta metros para centímetros.\n",
    "\n",
    "M = float(input(\"Digite um valor em metros:\"))\n",
    "C = float(M * 100)\n",
    "\n",
    "print(f\"O valor de metros em centímetros é igual à {C}cm\")"
   ]
  },
  {
   "cell_type": "code",
   "execution_count": 23,
   "id": "b5236908",
   "metadata": {},
   "outputs": [
    {
     "name": "stdout",
     "output_type": "stream",
     "text": [
      "Digite um numero para mostrar sua tabuada: 8\n",
      "8 x 0 = 0\n",
      "8 x 1 = 8\n",
      "8 x 2 = 16\n",
      "8 x 3 = 24\n",
      "8 x 4 = 32\n",
      "8 x 5 = 40\n",
      "8 x 6 = 48\n",
      "8 x 7 = 56\n",
      "8 x 8 = 64\n",
      "8 x 9 = 72\n",
      "8 x 10 = 80\n"
     ]
    }
   ],
   "source": [
    "#Exercício 5.8: Faça um programa em Python que leia um valor inteiro e mostre a tabuada de 1 a 10 do valor lido\n",
    "\n",
    "n = int(input(\"Digite um numero para mostrar sua tabuada: \"))\n",
    "\n",
    "for c in range(0, 11):\n",
    "\n",
    "    print(f\"{n} x {c} = {n * c}\")"
   ]
  },
  {
   "cell_type": "code",
   "execution_count": 25,
   "id": "5e03c0c7",
   "metadata": {},
   "outputs": [
    {
     "name": "stdout",
     "output_type": "stream",
     "text": [
      "nota na primeira prova: 5\n",
      "nota na segunda prova: 5\n",
      "média = 5.0\n"
     ]
    }
   ],
   "source": [
    "#Exercício 5.9: Faça um programa em linguagem Python que receba duas notas e calcule a média aritmética e mostre o resultado.\n",
    "n1 = float(input(\"nota na primeira prova: \"))\n",
    "n2 = float(input(\"nota na segunda prova: \"))\n",
    "\n",
    "m = (n1+n2)/2\n",
    "\n",
    "print(f\"média = {m}\")"
   ]
  },
  {
   "cell_type": "code",
   "execution_count": null,
   "id": "dafb076c",
   "metadata": {},
   "outputs": [],
   "source": [
    "#Exercício 5.10: Fazer um programa que ao receber o salário atual de um funcionário, calcule o\n",
    "#valor do novo salário reajustado de acordo com as 3 situações: salário reajustado em 15%,\n",
    "#salario reajustado em 10% e salário reajustado em 5%."
   ]
  },
  {
   "cell_type": "code",
   "execution_count": 1,
   "id": "191a8d5d",
   "metadata": {},
   "outputs": [
    {
     "name": "stdout",
     "output_type": "stream",
     "text": [
      "digite um numero: 6\n",
      "digite outro número: 4\n",
      "10\n"
     ]
    }
   ],
   "source": [
    "#Exercício 5.11: Faça um programa que receba dois números e exiba o resultado da sua soma.\n",
    "\n",
    "a = int(input(\"digite um numero: \"))\n",
    "b = int(input(\"digite outro número: \"))\n",
    "\n",
    "s = a + b\n",
    "\n",
    "print(s)"
   ]
  },
  {
   "cell_type": "code",
   "execution_count": 3,
   "id": "93b8c04d",
   "metadata": {},
   "outputs": [
    {
     "name": "stdout",
     "output_type": "stream",
     "text": [
      "Digite um número: 5\n",
      "Digite outro número: 5\n",
      "5 + 5 = 10\n",
      "5 - 5 = 0\n",
      "5 x 5 = 25\n",
      "5 / 5 = 1.0\n"
     ]
    }
   ],
   "source": [
    "###### Exercício 5.12: Faça um programa que receba dois números e ao final mostre a soma,\n",
    "#subtração, multiplicação e a divisão dos números lidos.\n",
    "\n",
    "a = int(input(\"Digite um número: \"))\n",
    "b = int(input(\"Digite outro número: \"))\n",
    "\n",
    "print(f\"{a} + {b} = {a + b}\")\n",
    "print(f\"{a} - {b} = {a - b}\")\n",
    "print(f\"{a} x {b} = {a * b}\")\n",
    "print(f\"{a} / {b} = {a / b}\")"
   ]
  },
  {
   "cell_type": "code",
   "execution_count": 12,
   "id": "12ce9be3",
   "metadata": {},
   "outputs": [
    {
     "name": "stdout",
     "output_type": "stream",
     "text": [
      "Qual a distância total em kilometros: 5\n",
      "Quantos Litros de gasolina: 2\n",
      "O gasto médio de combustível = 2.5\n"
     ]
    }
   ],
   "source": [
    "# Escrever um programa para determinar o consumo médio de um automóvel\n",
    "# Sendo fornecida a distância total percorrida pelo automóvel e o total de combustível gasto.\n",
    "\n",
    "distancia = float(input(\"Qual a distância total em kilometros: \"))\n",
    "combustivel = float(input(\"Quantos Litros de gasolina: \"))\n",
    "\n",
    "\n",
    "print(\"O gasto médio de combustível = {:.1f}\".format(distancia/combustivel))"
   ]
  },
  {
   "cell_type": "code",
   "execution_count": null,
   "id": "10315cf5",
   "metadata": {},
   "outputs": [],
   "source": [
    "#Exercício 5.14: Escrever um programa que leia o nome de um vendedor, o seu salário fixo e o\n",
    "#total de vendas efetuadas por ele no mês (em dinheiro). Sabendo que este vendedor ganha\n",
    "#15% de comissão sobre suas vendas efetuadas, informar o seu nome, o salário fixo e salário\n",
    "#no final do mês.\n",
    "\n",
    "nome = str(input(\"Nome do vendedor: \"))\n",
    "salario_fixo = int(input(\"Salario fixo: \"))\n",
    "total_vendas = int(input(\"Total de vendas em reais efetuadas no mês: \"))\n",
    "comissao = 15\n",
    "\n",
    "print(f\"Vendedor     = {nome}\\nSalário Fixo = {salario_fixo + (total_vendas * comissao)/100}\")"
   ]
  },
  {
   "cell_type": "code",
   "execution_count": 1,
   "id": "ecbea04b",
   "metadata": {},
   "outputs": [
    {
     "name": "stdout",
     "output_type": "stream",
     "text": [
      "Nota 1: 7\n",
      "Nota 2: 7\n",
      "Nota 3: 7\n",
      "Sua média final é de 7.0\n"
     ]
    }
   ],
   "source": [
    "# Exercício 5.15: Escrever um programa que leia o nome de um aluno e as notas das três provas\n",
    "# que ele obteve no semestre. No final informar o nome do aluno e a sua média (aritmética).\n",
    "\n",
    "n1 = float(input(\"Nota 1: \"))\n",
    "n2 = float(input(\"Nota 2: \"))\n",
    "n3 = float(input(\"Nota 3: \"))\n",
    "s = float(n1 + n2 + n3)/3\n",
    "print(\"Sua média final é de {:.1f}\".format(s))\n",
    "\n",
    "\n"
   ]
  },
  {
   "cell_type": "code",
   "execution_count": 3,
   "id": "88d1b7f7",
   "metadata": {},
   "outputs": [
    {
     "name": "stdout",
     "output_type": "stream",
     "text": [
      "3 6\n"
     ]
    }
   ],
   "source": [
    "#Exercício 5.16: Ler dois valores para as variáveis A e B, e efetuar as trocas dos valores de\n",
    "#forma que a variável A passe a possuir o valor da variável B e a variável B passe a possuir o\n",
    "#valor da variável A. Apresentar os valores\n",
    "\n",
    "a = 6\n",
    "b = 3\n",
    "\n",
    "a, b = b, a\n",
    "\n",
    "print(a, b)"
   ]
  },
  {
   "cell_type": "code",
   "execution_count": 13,
   "id": "4edcebf3",
   "metadata": {
    "scrolled": true
   },
   "outputs": [
    {
     "name": "stdout",
     "output_type": "stream",
     "text": [
      "Quantos graus Celcius você quer converter? 30\n",
      "Voce tinha 30.0°C, você converteu, agora tem 86.0°F\n"
     ]
    }
   ],
   "source": [
    "#Exercício 5.17: Ler uma temperatura em graus Celsius e apresentá-la convertida em graus\n",
    "#Fahrenheit. A fórmula de conversão é: F=(9*C+160) / 5, sendo F a temperatura em Fahrenheit\n",
    "#e C a temperatura em Celsius.\n",
    "\n",
    "C = float(input(\"Quantos graus Celcius você quer converter? \"))\n",
    "F=(9*C+160) / 5\n",
    "\n",
    "print(f\"Voce tinha {C}°C, você converteu, agora tem {F}°F\")"
   ]
  },
  {
   "cell_type": "code",
   "execution_count": null,
   "id": "7d9892e5",
   "metadata": {},
   "outputs": [],
   "source": [
    "for n in range(0, 3):\n",
    "    meta = 1000\n",
    "    vendas = int(input(\"Vendas funcionário: \"))\n",
    "    if vendas >= meta:\n",
    "        bonus = 0.10 * vendas\n",
    "        print(f\"Bonus = {bonus}\")\n",
    "    else:\n",
    "        bonus = 0\n",
    "        print(f\"Bônus = {bonus}\")"
   ]
  },
  {
   "cell_type": "code",
   "execution_count": null,
   "id": "cbfe0cd6",
   "metadata": {},
   "outputs": [],
   "source": [
    "for n in range(0, 3):\n",
    "    meta = 2000\n",
    "    nome = input(str(\"Nome: \"))\n",
    "    salariofx = int(input(\"Salário fixo: \"))\n",
    "    vendas = int(input(\"Vendas: \"))\n",
    "    print(\"====================================\")\n",
    "    if vendas >= meta * 2:\n",
    "        bonus = 0.15 * vendas\n",
    "        novo_salario = salariofx + bonus\n",
    "        print(f\"Parabéns {nome}!\\nBônus = R${bonus}\\nSalário total = R${novo_salario}\")\n",
    "        print(\"====================================\")\n",
    "    elif (vendas < meta * 2) and (vendas >= 1000):\n",
    "        bonus = 0.10 * vendas \n",
    "        novo_salario = salariofx + bonus\n",
    "        print(f\"Parabéns {nome}!\\nBônus = R${bonus}\\nSalário total = R${novo_salario}\")\n",
    "        print(\"====================================\")\n",
    "    else:\n",
    "        bonus = 0\n",
    "        novo_salario = salariofx + bonus\n",
    "        print(f\"Bônus = R${bonus}\\nSalário total = R${novo_salario}\")\n",
    "        print(\"====================================\")"
   ]
  },
  {
   "cell_type": "markdown",
   "id": "48ccff1c",
   "metadata": {},
   "source": []
  }
 ],
 "metadata": {
  "kernelspec": {
   "display_name": "Python 3.10.5 64-bit",
   "language": "python",
   "name": "python3"
  },
  "language_info": {
   "codemirror_mode": {
    "name": "ipython",
    "version": 3
   },
   "file_extension": ".py",
   "mimetype": "text/x-python",
   "name": "python",
   "nbconvert_exporter": "python",
   "pygments_lexer": "ipython3",
   "version": "3.10.5"
  },
  "vscode": {
   "interpreter": {
    "hash": "aee8b7b246df8f9039afb4144a1f6fd8d2ca17a180786b69acc140d282b71a49"
   }
  }
 },
 "nbformat": 4,
 "nbformat_minor": 5
}
